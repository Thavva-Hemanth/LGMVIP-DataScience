{
  "nbformat": 4,
  "nbformat_minor": 0,
  "metadata": {
    "colab": {
      "provenance": []
    },
    "kernelspec": {
      "name": "python3",
      "display_name": "Python 3"
    },
    "language_info": {
      "name": "python"
    }
  },
  "cells": [
    {
      "cell_type": "code",
      "execution_count": 5,
      "metadata": {
        "id": "5-QSbZpbulvA"
      },
      "outputs": [],
      "source": [
        "import pandas as pd\n",
        "import numpy as np\n",
        "import seaborn as sns\n",
        "import matplotlib.pyplot as plt\n",
        "%matplotlib inline"
      ]
    },
    {
      "cell_type": "code",
      "source": [
        "df =pd.read_csv('/content/NSE-TATAGLOBAL.csv')\n",
        "df=df.iloc[::-1]\n",
        "df.head()"
      ],
      "metadata": {
        "colab": {
          "base_uri": "https://localhost:8080/",
          "height": 206
        },
        "id": "mMNV3waIupbC",
        "outputId": "a0165178-684d-482b-c8cf-88b7cd497870"
      },
      "execution_count": 6,
      "outputs": [
        {
          "output_type": "execute_result",
          "data": {
            "text/plain": [
              "            Date   Open    High     Low    Last   Close  Total Trade Quantity  \\\n",
              "2034  21-07-2010  122.1  123.00  121.05  121.10  121.55                658666   \n",
              "2033  22-07-2010  120.3  122.00  120.25  120.75  120.90                293312   \n",
              "2032  23-07-2010  121.8  121.95  120.25  120.35  120.65                281312   \n",
              "2031  26-07-2010  120.1  121.00  117.10  117.10  117.60                658440   \n",
              "2030  27-07-2010  117.6  119.50  112.00  118.80  118.65                586100   \n",
              "\n",
              "      Turnover (Lacs)  \n",
              "2034           803.56  \n",
              "2033           355.17  \n",
              "2032           340.31  \n",
              "2031           780.01  \n",
              "2030           694.98  "
            ],
            "text/html": [
              "\n",
              "  <div id=\"df-43c5301d-2c0f-4a7c-a365-508ef1f96fb0\">\n",
              "    <div class=\"colab-df-container\">\n",
              "      <div>\n",
              "<style scoped>\n",
              "    .dataframe tbody tr th:only-of-type {\n",
              "        vertical-align: middle;\n",
              "    }\n",
              "\n",
              "    .dataframe tbody tr th {\n",
              "        vertical-align: top;\n",
              "    }\n",
              "\n",
              "    .dataframe thead th {\n",
              "        text-align: right;\n",
              "    }\n",
              "</style>\n",
              "<table border=\"1\" class=\"dataframe\">\n",
              "  <thead>\n",
              "    <tr style=\"text-align: right;\">\n",
              "      <th></th>\n",
              "      <th>Date</th>\n",
              "      <th>Open</th>\n",
              "      <th>High</th>\n",
              "      <th>Low</th>\n",
              "      <th>Last</th>\n",
              "      <th>Close</th>\n",
              "      <th>Total Trade Quantity</th>\n",
              "      <th>Turnover (Lacs)</th>\n",
              "    </tr>\n",
              "  </thead>\n",
              "  <tbody>\n",
              "    <tr>\n",
              "      <th>2034</th>\n",
              "      <td>21-07-2010</td>\n",
              "      <td>122.1</td>\n",
              "      <td>123.00</td>\n",
              "      <td>121.05</td>\n",
              "      <td>121.10</td>\n",
              "      <td>121.55</td>\n",
              "      <td>658666</td>\n",
              "      <td>803.56</td>\n",
              "    </tr>\n",
              "    <tr>\n",
              "      <th>2033</th>\n",
              "      <td>22-07-2010</td>\n",
              "      <td>120.3</td>\n",
              "      <td>122.00</td>\n",
              "      <td>120.25</td>\n",
              "      <td>120.75</td>\n",
              "      <td>120.90</td>\n",
              "      <td>293312</td>\n",
              "      <td>355.17</td>\n",
              "    </tr>\n",
              "    <tr>\n",
              "      <th>2032</th>\n",
              "      <td>23-07-2010</td>\n",
              "      <td>121.8</td>\n",
              "      <td>121.95</td>\n",
              "      <td>120.25</td>\n",
              "      <td>120.35</td>\n",
              "      <td>120.65</td>\n",
              "      <td>281312</td>\n",
              "      <td>340.31</td>\n",
              "    </tr>\n",
              "    <tr>\n",
              "      <th>2031</th>\n",
              "      <td>26-07-2010</td>\n",
              "      <td>120.1</td>\n",
              "      <td>121.00</td>\n",
              "      <td>117.10</td>\n",
              "      <td>117.10</td>\n",
              "      <td>117.60</td>\n",
              "      <td>658440</td>\n",
              "      <td>780.01</td>\n",
              "    </tr>\n",
              "    <tr>\n",
              "      <th>2030</th>\n",
              "      <td>27-07-2010</td>\n",
              "      <td>117.6</td>\n",
              "      <td>119.50</td>\n",
              "      <td>112.00</td>\n",
              "      <td>118.80</td>\n",
              "      <td>118.65</td>\n",
              "      <td>586100</td>\n",
              "      <td>694.98</td>\n",
              "    </tr>\n",
              "  </tbody>\n",
              "</table>\n",
              "</div>\n",
              "      <button class=\"colab-df-convert\" onclick=\"convertToInteractive('df-43c5301d-2c0f-4a7c-a365-508ef1f96fb0')\"\n",
              "              title=\"Convert this dataframe to an interactive table.\"\n",
              "              style=\"display:none;\">\n",
              "        \n",
              "  <svg xmlns=\"http://www.w3.org/2000/svg\" height=\"24px\"viewBox=\"0 0 24 24\"\n",
              "       width=\"24px\">\n",
              "    <path d=\"M0 0h24v24H0V0z\" fill=\"none\"/>\n",
              "    <path d=\"M18.56 5.44l.94 2.06.94-2.06 2.06-.94-2.06-.94-.94-2.06-.94 2.06-2.06.94zm-11 1L8.5 8.5l.94-2.06 2.06-.94-2.06-.94L8.5 2.5l-.94 2.06-2.06.94zm10 10l.94 2.06.94-2.06 2.06-.94-2.06-.94-.94-2.06-.94 2.06-2.06.94z\"/><path d=\"M17.41 7.96l-1.37-1.37c-.4-.4-.92-.59-1.43-.59-.52 0-1.04.2-1.43.59L10.3 9.45l-7.72 7.72c-.78.78-.78 2.05 0 2.83L4 21.41c.39.39.9.59 1.41.59.51 0 1.02-.2 1.41-.59l7.78-7.78 2.81-2.81c.8-.78.8-2.07 0-2.86zM5.41 20L4 18.59l7.72-7.72 1.47 1.35L5.41 20z\"/>\n",
              "  </svg>\n",
              "      </button>\n",
              "      \n",
              "  <style>\n",
              "    .colab-df-container {\n",
              "      display:flex;\n",
              "      flex-wrap:wrap;\n",
              "      gap: 12px;\n",
              "    }\n",
              "\n",
              "    .colab-df-convert {\n",
              "      background-color: #E8F0FE;\n",
              "      border: none;\n",
              "      border-radius: 50%;\n",
              "      cursor: pointer;\n",
              "      display: none;\n",
              "      fill: #1967D2;\n",
              "      height: 32px;\n",
              "      padding: 0 0 0 0;\n",
              "      width: 32px;\n",
              "    }\n",
              "\n",
              "    .colab-df-convert:hover {\n",
              "      background-color: #E2EBFA;\n",
              "      box-shadow: 0px 1px 2px rgba(60, 64, 67, 0.3), 0px 1px 3px 1px rgba(60, 64, 67, 0.15);\n",
              "      fill: #174EA6;\n",
              "    }\n",
              "\n",
              "    [theme=dark] .colab-df-convert {\n",
              "      background-color: #3B4455;\n",
              "      fill: #D2E3FC;\n",
              "    }\n",
              "\n",
              "    [theme=dark] .colab-df-convert:hover {\n",
              "      background-color: #434B5C;\n",
              "      box-shadow: 0px 1px 3px 1px rgba(0, 0, 0, 0.15);\n",
              "      filter: drop-shadow(0px 1px 2px rgba(0, 0, 0, 0.3));\n",
              "      fill: #FFFFFF;\n",
              "    }\n",
              "  </style>\n",
              "\n",
              "      <script>\n",
              "        const buttonEl =\n",
              "          document.querySelector('#df-43c5301d-2c0f-4a7c-a365-508ef1f96fb0 button.colab-df-convert');\n",
              "        buttonEl.style.display =\n",
              "          google.colab.kernel.accessAllowed ? 'block' : 'none';\n",
              "\n",
              "        async function convertToInteractive(key) {\n",
              "          const element = document.querySelector('#df-43c5301d-2c0f-4a7c-a365-508ef1f96fb0');\n",
              "          const dataTable =\n",
              "            await google.colab.kernel.invokeFunction('convertToInteractive',\n",
              "                                                     [key], {});\n",
              "          if (!dataTable) return;\n",
              "\n",
              "          const docLinkHtml = 'Like what you see? Visit the ' +\n",
              "            '<a target=\"_blank\" href=https://colab.research.google.com/notebooks/data_table.ipynb>data table notebook</a>'\n",
              "            + ' to learn more about interactive tables.';\n",
              "          element.innerHTML = '';\n",
              "          dataTable['output_type'] = 'display_data';\n",
              "          await google.colab.output.renderOutput(dataTable, element);\n",
              "          const docLink = document.createElement('div');\n",
              "          docLink.innerHTML = docLinkHtml;\n",
              "          element.appendChild(docLink);\n",
              "        }\n",
              "      </script>\n",
              "    </div>\n",
              "  </div>\n",
              "  "
            ]
          },
          "metadata": {},
          "execution_count": 6
        }
      ]
    },
    {
      "cell_type": "code",
      "source": [
        "df.tail()"
      ],
      "metadata": {
        "colab": {
          "base_uri": "https://localhost:8080/",
          "height": 206
        },
        "id": "78dabk_yusVI",
        "outputId": "e0b77131-e787-4e0b-a353-cd60334d5bb0"
      },
      "execution_count": 7,
      "outputs": [
        {
          "output_type": "execute_result",
          "data": {
            "text/plain": [
              "         Date    Open    High     Low    Last   Close  Total Trade Quantity  \\\n",
              "4  24-09-2018  233.55  239.20  230.75  234.00  233.30               3423509   \n",
              "3  25-09-2018  233.30  236.75  232.00  236.25  236.10               2349368   \n",
              "2  26-09-2018  240.00  240.00  232.50  235.00  234.25               2240909   \n",
              "1  27-09-2018  234.55  236.80  231.10  233.80  233.25               5082859   \n",
              "0  28-09-2018  234.05  235.95  230.20  233.50  233.75               3069914   \n",
              "\n",
              "   Turnover (Lacs)  \n",
              "4          7999.55  \n",
              "3          5503.90  \n",
              "2          5248.60  \n",
              "1         11859.95  \n",
              "0          7162.35  "
            ],
            "text/html": [
              "\n",
              "  <div id=\"df-d167cd7b-4c0e-4219-bdf8-2bd46ce17afa\">\n",
              "    <div class=\"colab-df-container\">\n",
              "      <div>\n",
              "<style scoped>\n",
              "    .dataframe tbody tr th:only-of-type {\n",
              "        vertical-align: middle;\n",
              "    }\n",
              "\n",
              "    .dataframe tbody tr th {\n",
              "        vertical-align: top;\n",
              "    }\n",
              "\n",
              "    .dataframe thead th {\n",
              "        text-align: right;\n",
              "    }\n",
              "</style>\n",
              "<table border=\"1\" class=\"dataframe\">\n",
              "  <thead>\n",
              "    <tr style=\"text-align: right;\">\n",
              "      <th></th>\n",
              "      <th>Date</th>\n",
              "      <th>Open</th>\n",
              "      <th>High</th>\n",
              "      <th>Low</th>\n",
              "      <th>Last</th>\n",
              "      <th>Close</th>\n",
              "      <th>Total Trade Quantity</th>\n",
              "      <th>Turnover (Lacs)</th>\n",
              "    </tr>\n",
              "  </thead>\n",
              "  <tbody>\n",
              "    <tr>\n",
              "      <th>4</th>\n",
              "      <td>24-09-2018</td>\n",
              "      <td>233.55</td>\n",
              "      <td>239.20</td>\n",
              "      <td>230.75</td>\n",
              "      <td>234.00</td>\n",
              "      <td>233.30</td>\n",
              "      <td>3423509</td>\n",
              "      <td>7999.55</td>\n",
              "    </tr>\n",
              "    <tr>\n",
              "      <th>3</th>\n",
              "      <td>25-09-2018</td>\n",
              "      <td>233.30</td>\n",
              "      <td>236.75</td>\n",
              "      <td>232.00</td>\n",
              "      <td>236.25</td>\n",
              "      <td>236.10</td>\n",
              "      <td>2349368</td>\n",
              "      <td>5503.90</td>\n",
              "    </tr>\n",
              "    <tr>\n",
              "      <th>2</th>\n",
              "      <td>26-09-2018</td>\n",
              "      <td>240.00</td>\n",
              "      <td>240.00</td>\n",
              "      <td>232.50</td>\n",
              "      <td>235.00</td>\n",
              "      <td>234.25</td>\n",
              "      <td>2240909</td>\n",
              "      <td>5248.60</td>\n",
              "    </tr>\n",
              "    <tr>\n",
              "      <th>1</th>\n",
              "      <td>27-09-2018</td>\n",
              "      <td>234.55</td>\n",
              "      <td>236.80</td>\n",
              "      <td>231.10</td>\n",
              "      <td>233.80</td>\n",
              "      <td>233.25</td>\n",
              "      <td>5082859</td>\n",
              "      <td>11859.95</td>\n",
              "    </tr>\n",
              "    <tr>\n",
              "      <th>0</th>\n",
              "      <td>28-09-2018</td>\n",
              "      <td>234.05</td>\n",
              "      <td>235.95</td>\n",
              "      <td>230.20</td>\n",
              "      <td>233.50</td>\n",
              "      <td>233.75</td>\n",
              "      <td>3069914</td>\n",
              "      <td>7162.35</td>\n",
              "    </tr>\n",
              "  </tbody>\n",
              "</table>\n",
              "</div>\n",
              "      <button class=\"colab-df-convert\" onclick=\"convertToInteractive('df-d167cd7b-4c0e-4219-bdf8-2bd46ce17afa')\"\n",
              "              title=\"Convert this dataframe to an interactive table.\"\n",
              "              style=\"display:none;\">\n",
              "        \n",
              "  <svg xmlns=\"http://www.w3.org/2000/svg\" height=\"24px\"viewBox=\"0 0 24 24\"\n",
              "       width=\"24px\">\n",
              "    <path d=\"M0 0h24v24H0V0z\" fill=\"none\"/>\n",
              "    <path d=\"M18.56 5.44l.94 2.06.94-2.06 2.06-.94-2.06-.94-.94-2.06-.94 2.06-2.06.94zm-11 1L8.5 8.5l.94-2.06 2.06-.94-2.06-.94L8.5 2.5l-.94 2.06-2.06.94zm10 10l.94 2.06.94-2.06 2.06-.94-2.06-.94-.94-2.06-.94 2.06-2.06.94z\"/><path d=\"M17.41 7.96l-1.37-1.37c-.4-.4-.92-.59-1.43-.59-.52 0-1.04.2-1.43.59L10.3 9.45l-7.72 7.72c-.78.78-.78 2.05 0 2.83L4 21.41c.39.39.9.59 1.41.59.51 0 1.02-.2 1.41-.59l7.78-7.78 2.81-2.81c.8-.78.8-2.07 0-2.86zM5.41 20L4 18.59l7.72-7.72 1.47 1.35L5.41 20z\"/>\n",
              "  </svg>\n",
              "      </button>\n",
              "      \n",
              "  <style>\n",
              "    .colab-df-container {\n",
              "      display:flex;\n",
              "      flex-wrap:wrap;\n",
              "      gap: 12px;\n",
              "    }\n",
              "\n",
              "    .colab-df-convert {\n",
              "      background-color: #E8F0FE;\n",
              "      border: none;\n",
              "      border-radius: 50%;\n",
              "      cursor: pointer;\n",
              "      display: none;\n",
              "      fill: #1967D2;\n",
              "      height: 32px;\n",
              "      padding: 0 0 0 0;\n",
              "      width: 32px;\n",
              "    }\n",
              "\n",
              "    .colab-df-convert:hover {\n",
              "      background-color: #E2EBFA;\n",
              "      box-shadow: 0px 1px 2px rgba(60, 64, 67, 0.3), 0px 1px 3px 1px rgba(60, 64, 67, 0.15);\n",
              "      fill: #174EA6;\n",
              "    }\n",
              "\n",
              "    [theme=dark] .colab-df-convert {\n",
              "      background-color: #3B4455;\n",
              "      fill: #D2E3FC;\n",
              "    }\n",
              "\n",
              "    [theme=dark] .colab-df-convert:hover {\n",
              "      background-color: #434B5C;\n",
              "      box-shadow: 0px 1px 3px 1px rgba(0, 0, 0, 0.15);\n",
              "      filter: drop-shadow(0px 1px 2px rgba(0, 0, 0, 0.3));\n",
              "      fill: #FFFFFF;\n",
              "    }\n",
              "  </style>\n",
              "\n",
              "      <script>\n",
              "        const buttonEl =\n",
              "          document.querySelector('#df-d167cd7b-4c0e-4219-bdf8-2bd46ce17afa button.colab-df-convert');\n",
              "        buttonEl.style.display =\n",
              "          google.colab.kernel.accessAllowed ? 'block' : 'none';\n",
              "\n",
              "        async function convertToInteractive(key) {\n",
              "          const element = document.querySelector('#df-d167cd7b-4c0e-4219-bdf8-2bd46ce17afa');\n",
              "          const dataTable =\n",
              "            await google.colab.kernel.invokeFunction('convertToInteractive',\n",
              "                                                     [key], {});\n",
              "          if (!dataTable) return;\n",
              "\n",
              "          const docLinkHtml = 'Like what you see? Visit the ' +\n",
              "            '<a target=\"_blank\" href=https://colab.research.google.com/notebooks/data_table.ipynb>data table notebook</a>'\n",
              "            + ' to learn more about interactive tables.';\n",
              "          element.innerHTML = '';\n",
              "          dataTable['output_type'] = 'display_data';\n",
              "          await google.colab.output.renderOutput(dataTable, element);\n",
              "          const docLink = document.createElement('div');\n",
              "          docLink.innerHTML = docLinkHtml;\n",
              "          element.appendChild(docLink);\n",
              "        }\n",
              "      </script>\n",
              "    </div>\n",
              "  </div>\n",
              "  "
            ]
          },
          "metadata": {},
          "execution_count": 7
        }
      ]
    },
    {
      "cell_type": "code",
      "source": [
        "df.shape"
      ],
      "metadata": {
        "colab": {
          "base_uri": "https://localhost:8080/"
        },
        "id": "-OKLjKQtusX2",
        "outputId": "8737fb1a-c383-4723-b422-fd1358498501"
      },
      "execution_count": 8,
      "outputs": [
        {
          "output_type": "execute_result",
          "data": {
            "text/plain": [
              "(2035, 8)"
            ]
          },
          "metadata": {},
          "execution_count": 8
        }
      ]
    },
    {
      "cell_type": "code",
      "source": [
        "df.columns"
      ],
      "metadata": {
        "colab": {
          "base_uri": "https://localhost:8080/"
        },
        "id": "bixWlq9dusad",
        "outputId": "048c8a9d-001a-457d-e007-a4509de471ea"
      },
      "execution_count": 9,
      "outputs": [
        {
          "output_type": "execute_result",
          "data": {
            "text/plain": [
              "Index(['Date', 'Open', 'High', 'Low', 'Last', 'Close', 'Total Trade Quantity',\n",
              "       'Turnover (Lacs)'],\n",
              "      dtype='object')"
            ]
          },
          "metadata": {},
          "execution_count": 9
        }
      ]
    },
    {
      "cell_type": "code",
      "source": [
        "df.info()"
      ],
      "metadata": {
        "colab": {
          "base_uri": "https://localhost:8080/"
        },
        "id": "gKmhq732usdC",
        "outputId": "03a63195-36b4-411b-81db-e093aaed2c1f"
      },
      "execution_count": 10,
      "outputs": [
        {
          "output_type": "stream",
          "name": "stdout",
          "text": [
            "<class 'pandas.core.frame.DataFrame'>\n",
            "RangeIndex: 2035 entries, 2034 to 0\n",
            "Data columns (total 8 columns):\n",
            " #   Column                Non-Null Count  Dtype  \n",
            "---  ------                --------------  -----  \n",
            " 0   Date                  2035 non-null   object \n",
            " 1   Open                  2035 non-null   float64\n",
            " 2   High                  2035 non-null   float64\n",
            " 3   Low                   2035 non-null   float64\n",
            " 4   Last                  2035 non-null   float64\n",
            " 5   Close                 2035 non-null   float64\n",
            " 6   Total Trade Quantity  2035 non-null   int64  \n",
            " 7   Turnover (Lacs)       2035 non-null   float64\n",
            "dtypes: float64(6), int64(1), object(1)\n",
            "memory usage: 127.3+ KB\n"
          ]
        }
      ]
    },
    {
      "cell_type": "code",
      "source": [
        "df.describe()"
      ],
      "metadata": {
        "colab": {
          "base_uri": "https://localhost:8080/",
          "height": 300
        },
        "id": "2yYBQ9SWusfd",
        "outputId": "f56724a9-6a52-46cd-f2ad-30554d38d03f"
      },
      "execution_count": 11,
      "outputs": [
        {
          "output_type": "execute_result",
          "data": {
            "text/plain": [
              "              Open         High          Low         Last       Close  \\\n",
              "count  2035.000000  2035.000000  2035.000000  2035.000000  2035.00000   \n",
              "mean    149.713735   151.992826   147.293931   149.474251   149.45027   \n",
              "std      48.664509    49.413109    47.931958    48.732570    48.71204   \n",
              "min      81.100000    82.800000    80.000000    81.000000    80.95000   \n",
              "25%     120.025000   122.100000   118.300000   120.075000   120.05000   \n",
              "50%     141.500000   143.400000   139.600000   141.100000   141.25000   \n",
              "75%     157.175000   159.400000   155.150000   156.925000   156.90000   \n",
              "max     327.700000   328.750000   321.650000   325.950000   325.75000   \n",
              "\n",
              "       Total Trade Quantity  Turnover (Lacs)  \n",
              "count          2.035000e+03      2035.000000  \n",
              "mean           2.335681e+06      3899.980565  \n",
              "std            2.091778e+06      4570.767877  \n",
              "min            3.961000e+04        37.040000  \n",
              "25%            1.146444e+06      1427.460000  \n",
              "50%            1.783456e+06      2512.030000  \n",
              "75%            2.813594e+06      4539.015000  \n",
              "max            2.919102e+07     55755.080000  "
            ],
            "text/html": [
              "\n",
              "  <div id=\"df-99c15c77-c7f5-4f13-8d15-7de100c089a5\">\n",
              "    <div class=\"colab-df-container\">\n",
              "      <div>\n",
              "<style scoped>\n",
              "    .dataframe tbody tr th:only-of-type {\n",
              "        vertical-align: middle;\n",
              "    }\n",
              "\n",
              "    .dataframe tbody tr th {\n",
              "        vertical-align: top;\n",
              "    }\n",
              "\n",
              "    .dataframe thead th {\n",
              "        text-align: right;\n",
              "    }\n",
              "</style>\n",
              "<table border=\"1\" class=\"dataframe\">\n",
              "  <thead>\n",
              "    <tr style=\"text-align: right;\">\n",
              "      <th></th>\n",
              "      <th>Open</th>\n",
              "      <th>High</th>\n",
              "      <th>Low</th>\n",
              "      <th>Last</th>\n",
              "      <th>Close</th>\n",
              "      <th>Total Trade Quantity</th>\n",
              "      <th>Turnover (Lacs)</th>\n",
              "    </tr>\n",
              "  </thead>\n",
              "  <tbody>\n",
              "    <tr>\n",
              "      <th>count</th>\n",
              "      <td>2035.000000</td>\n",
              "      <td>2035.000000</td>\n",
              "      <td>2035.000000</td>\n",
              "      <td>2035.000000</td>\n",
              "      <td>2035.00000</td>\n",
              "      <td>2.035000e+03</td>\n",
              "      <td>2035.000000</td>\n",
              "    </tr>\n",
              "    <tr>\n",
              "      <th>mean</th>\n",
              "      <td>149.713735</td>\n",
              "      <td>151.992826</td>\n",
              "      <td>147.293931</td>\n",
              "      <td>149.474251</td>\n",
              "      <td>149.45027</td>\n",
              "      <td>2.335681e+06</td>\n",
              "      <td>3899.980565</td>\n",
              "    </tr>\n",
              "    <tr>\n",
              "      <th>std</th>\n",
              "      <td>48.664509</td>\n",
              "      <td>49.413109</td>\n",
              "      <td>47.931958</td>\n",
              "      <td>48.732570</td>\n",
              "      <td>48.71204</td>\n",
              "      <td>2.091778e+06</td>\n",
              "      <td>4570.767877</td>\n",
              "    </tr>\n",
              "    <tr>\n",
              "      <th>min</th>\n",
              "      <td>81.100000</td>\n",
              "      <td>82.800000</td>\n",
              "      <td>80.000000</td>\n",
              "      <td>81.000000</td>\n",
              "      <td>80.95000</td>\n",
              "      <td>3.961000e+04</td>\n",
              "      <td>37.040000</td>\n",
              "    </tr>\n",
              "    <tr>\n",
              "      <th>25%</th>\n",
              "      <td>120.025000</td>\n",
              "      <td>122.100000</td>\n",
              "      <td>118.300000</td>\n",
              "      <td>120.075000</td>\n",
              "      <td>120.05000</td>\n",
              "      <td>1.146444e+06</td>\n",
              "      <td>1427.460000</td>\n",
              "    </tr>\n",
              "    <tr>\n",
              "      <th>50%</th>\n",
              "      <td>141.500000</td>\n",
              "      <td>143.400000</td>\n",
              "      <td>139.600000</td>\n",
              "      <td>141.100000</td>\n",
              "      <td>141.25000</td>\n",
              "      <td>1.783456e+06</td>\n",
              "      <td>2512.030000</td>\n",
              "    </tr>\n",
              "    <tr>\n",
              "      <th>75%</th>\n",
              "      <td>157.175000</td>\n",
              "      <td>159.400000</td>\n",
              "      <td>155.150000</td>\n",
              "      <td>156.925000</td>\n",
              "      <td>156.90000</td>\n",
              "      <td>2.813594e+06</td>\n",
              "      <td>4539.015000</td>\n",
              "    </tr>\n",
              "    <tr>\n",
              "      <th>max</th>\n",
              "      <td>327.700000</td>\n",
              "      <td>328.750000</td>\n",
              "      <td>321.650000</td>\n",
              "      <td>325.950000</td>\n",
              "      <td>325.75000</td>\n",
              "      <td>2.919102e+07</td>\n",
              "      <td>55755.080000</td>\n",
              "    </tr>\n",
              "  </tbody>\n",
              "</table>\n",
              "</div>\n",
              "      <button class=\"colab-df-convert\" onclick=\"convertToInteractive('df-99c15c77-c7f5-4f13-8d15-7de100c089a5')\"\n",
              "              title=\"Convert this dataframe to an interactive table.\"\n",
              "              style=\"display:none;\">\n",
              "        \n",
              "  <svg xmlns=\"http://www.w3.org/2000/svg\" height=\"24px\"viewBox=\"0 0 24 24\"\n",
              "       width=\"24px\">\n",
              "    <path d=\"M0 0h24v24H0V0z\" fill=\"none\"/>\n",
              "    <path d=\"M18.56 5.44l.94 2.06.94-2.06 2.06-.94-2.06-.94-.94-2.06-.94 2.06-2.06.94zm-11 1L8.5 8.5l.94-2.06 2.06-.94-2.06-.94L8.5 2.5l-.94 2.06-2.06.94zm10 10l.94 2.06.94-2.06 2.06-.94-2.06-.94-.94-2.06-.94 2.06-2.06.94z\"/><path d=\"M17.41 7.96l-1.37-1.37c-.4-.4-.92-.59-1.43-.59-.52 0-1.04.2-1.43.59L10.3 9.45l-7.72 7.72c-.78.78-.78 2.05 0 2.83L4 21.41c.39.39.9.59 1.41.59.51 0 1.02-.2 1.41-.59l7.78-7.78 2.81-2.81c.8-.78.8-2.07 0-2.86zM5.41 20L4 18.59l7.72-7.72 1.47 1.35L5.41 20z\"/>\n",
              "  </svg>\n",
              "      </button>\n",
              "      \n",
              "  <style>\n",
              "    .colab-df-container {\n",
              "      display:flex;\n",
              "      flex-wrap:wrap;\n",
              "      gap: 12px;\n",
              "    }\n",
              "\n",
              "    .colab-df-convert {\n",
              "      background-color: #E8F0FE;\n",
              "      border: none;\n",
              "      border-radius: 50%;\n",
              "      cursor: pointer;\n",
              "      display: none;\n",
              "      fill: #1967D2;\n",
              "      height: 32px;\n",
              "      padding: 0 0 0 0;\n",
              "      width: 32px;\n",
              "    }\n",
              "\n",
              "    .colab-df-convert:hover {\n",
              "      background-color: #E2EBFA;\n",
              "      box-shadow: 0px 1px 2px rgba(60, 64, 67, 0.3), 0px 1px 3px 1px rgba(60, 64, 67, 0.15);\n",
              "      fill: #174EA6;\n",
              "    }\n",
              "\n",
              "    [theme=dark] .colab-df-convert {\n",
              "      background-color: #3B4455;\n",
              "      fill: #D2E3FC;\n",
              "    }\n",
              "\n",
              "    [theme=dark] .colab-df-convert:hover {\n",
              "      background-color: #434B5C;\n",
              "      box-shadow: 0px 1px 3px 1px rgba(0, 0, 0, 0.15);\n",
              "      filter: drop-shadow(0px 1px 2px rgba(0, 0, 0, 0.3));\n",
              "      fill: #FFFFFF;\n",
              "    }\n",
              "  </style>\n",
              "\n",
              "      <script>\n",
              "        const buttonEl =\n",
              "          document.querySelector('#df-99c15c77-c7f5-4f13-8d15-7de100c089a5 button.colab-df-convert');\n",
              "        buttonEl.style.display =\n",
              "          google.colab.kernel.accessAllowed ? 'block' : 'none';\n",
              "\n",
              "        async function convertToInteractive(key) {\n",
              "          const element = document.querySelector('#df-99c15c77-c7f5-4f13-8d15-7de100c089a5');\n",
              "          const dataTable =\n",
              "            await google.colab.kernel.invokeFunction('convertToInteractive',\n",
              "                                                     [key], {});\n",
              "          if (!dataTable) return;\n",
              "\n",
              "          const docLinkHtml = 'Like what you see? Visit the ' +\n",
              "            '<a target=\"_blank\" href=https://colab.research.google.com/notebooks/data_table.ipynb>data table notebook</a>'\n",
              "            + ' to learn more about interactive tables.';\n",
              "          element.innerHTML = '';\n",
              "          dataTable['output_type'] = 'display_data';\n",
              "          await google.colab.output.renderOutput(dataTable, element);\n",
              "          const docLink = document.createElement('div');\n",
              "          docLink.innerHTML = docLinkHtml;\n",
              "          element.appendChild(docLink);\n",
              "        }\n",
              "      </script>\n",
              "    </div>\n",
              "  </div>\n",
              "  "
            ]
          },
          "metadata": {},
          "execution_count": 11
        }
      ]
    },
    {
      "cell_type": "code",
      "source": [
        "#Data Preprocessing\n",
        "df.isnull().sum()"
      ],
      "metadata": {
        "colab": {
          "base_uri": "https://localhost:8080/"
        },
        "id": "lw5iBLb2usi1",
        "outputId": "ae8176a5-41b2-46c3-d641-36f187988793"
      },
      "execution_count": 12,
      "outputs": [
        {
          "output_type": "execute_result",
          "data": {
            "text/plain": [
              "Date                    0\n",
              "Open                    0\n",
              "High                    0\n",
              "Low                     0\n",
              "Last                    0\n",
              "Close                   0\n",
              "Total Trade Quantity    0\n",
              "Turnover (Lacs)         0\n",
              "dtype: int64"
            ]
          },
          "metadata": {},
          "execution_count": 12
        }
      ]
    },
    {
      "cell_type": "code",
      "source": [
        "duplicates= df.duplicated()\n",
        "duplicates.value_counts() # no duplicates present"
      ],
      "metadata": {
        "colab": {
          "base_uri": "https://localhost:8080/"
        },
        "id": "OkIwvsNDuslv",
        "outputId": "67086463-845f-4aa9-8ddc-13cfde939eb6"
      },
      "execution_count": 13,
      "outputs": [
        {
          "output_type": "execute_result",
          "data": {
            "text/plain": [
              "False    2035\n",
              "dtype: int64"
            ]
          },
          "metadata": {},
          "execution_count": 13
        }
      ]
    },
    {
      "cell_type": "code",
      "source": [
        "plt.figure(figsize=(6,6))\n",
        "sns.heatmap(df.corr(), annot=True)"
      ],
      "metadata": {
        "colab": {
          "base_uri": "https://localhost:8080/",
          "height": 727
        },
        "id": "6zk1Feskusod",
        "outputId": "64a940c5-e92c-4a68-efe3-a1718bfd663a"
      },
      "execution_count": 14,
      "outputs": [
        {
          "output_type": "stream",
          "name": "stderr",
          "text": [
            "<ipython-input-14-40557f091158>:2: FutureWarning: The default value of numeric_only in DataFrame.corr is deprecated. In a future version, it will default to False. Select only valid columns or specify the value of numeric_only to silence this warning.\n",
            "  sns.heatmap(df.corr(), annot=True)\n"
          ]
        },
        {
          "output_type": "execute_result",
          "data": {
            "text/plain": [
              "<Axes: >"
            ]
          },
          "metadata": {},
          "execution_count": 14
        },
        {
          "output_type": "display_data",
          "data": {
            "text/plain": [
              "<Figure size 600x600 with 2 Axes>"
            ],
            "image/png": "[encoded data removed]"
          },
          "metadata": {}
        }
      ]
    },
    {
      "cell_type": "code",
      "source": [
        "df_high=df.reset_index()['High']\n",
        "plt.plot(df_high)"
      ],
      "metadata": {
        "colab": {
          "base_uri": "https://localhost:8080/",
          "height": 448
        },
        "id": "lu9EB5dSusra",
        "outputId": "cb465574-0b8b-4197-c35d-0351c1681a8b"
      },
      "execution_count": 15,
      "outputs": [
        {
          "output_type": "execute_result",
          "data": {
            "text/plain": [
              "[<matplotlib.lines.Line2D at 0x7f9a796dc4f0>]"
            ]
          },
          "metadata": {},
          "execution_count": 15
        },
        {
          "output_type": "display_data",
          "data": {
            "text/plain": [
              "<Figure size 640x480 with 1 Axes>"
            ],
            "image/png": "[encoded data removed]"
          },
          "metadata": {}
        }
      ]
    },
    {
      "cell_type": "code",
      "source": [
        "from sklearn.preprocessing import MinMaxScaler\n",
        "scaler = MinMaxScaler(feature_range = (0,1))\n",
        "df_high = scaler.fit_transform(np.array(df_high).reshape(-1,1))"
      ],
      "metadata": {
        "id": "6AOuDPzSust1"
      },
      "execution_count": 16,
      "outputs": []
    },
    {
      "cell_type": "code",
      "source": [
        "df_high.shape"
      ],
      "metadata": {
        "colab": {
          "base_uri": "https://localhost:8080/"
        },
        "id": "FYhWJSWNuswM",
        "outputId": "7e27f3d6-4e7f-42f7-88b1-2cbaf97ae1e2"
      },
      "execution_count": 17,
      "outputs": [
        {
          "output_type": "execute_result",
          "data": {
            "text/plain": [
              "(2035, 1)"
            ]
          },
          "metadata": {},
          "execution_count": 17
        }
      ]
    },
    {
      "cell_type": "code",
      "source": [
        "df_high"
      ],
      "metadata": {
        "colab": {
          "base_uri": "https://localhost:8080/"
        },
        "id": "uFBdNTOluszl",
        "outputId": "31dcd8be-0352-43d8-941a-46f3642ef982"
      },
      "execution_count": 18,
      "outputs": [
        {
          "output_type": "execute_result",
          "data": {
            "text/plain": [
              "array([[0.16344786],\n",
              "       [0.15938199],\n",
              "       [0.15917869],\n",
              "       ...,\n",
              "       [0.6391543 ],\n",
              "       [0.62614353],\n",
              "       [0.62268754]])"
            ]
          },
          "metadata": {},
          "execution_count": 18
        }
      ]
    },
    {
      "cell_type": "code",
      "source": [
        "#Split the data into train and test split\n",
        "training_size = int(len(df_high) * 0.75)\n",
        "test_size = len(df_high) - training_size\n",
        "train_data,test_data = df_high[0:training_size,:], df_high[training_size:len(df_high),:1]"
      ],
      "metadata": {
        "id": "7ZOAYVakute5"
      },
      "execution_count": 19,
      "outputs": []
    },
    {
      "cell_type": "code",
      "source": [
        "training_size, test_size"
      ],
      "metadata": {
        "colab": {
          "base_uri": "https://localhost:8080/"
        },
        "id": "DTXG-w1Kuthz",
        "outputId": "720248bd-3e78-4ed9-ba7a-784a8619a552"
      },
      "execution_count": 20,
      "outputs": [
        {
          "output_type": "execute_result",
          "data": {
            "text/plain": [
              "(1526, 509)"
            ]
          },
          "metadata": {},
          "execution_count": 20
        }
      ]
    },
    {
      "cell_type": "code",
      "source": [
        "# convert an array of values into a dataset matrix\n",
        "def create_dataset(dataset, time_step=1):\n",
        "    dataX, dataY = [], []\n",
        "    for i in range(len(dataset)-time_step-1):\n",
        "        a = dataset[i:(i+time_step), 0]  \n",
        "        dataX.append(a)\n",
        "        dataY.append(dataset[i + time_step, 0])\n",
        "    return np.array(dataX), np.array(dataY)"
      ],
      "metadata": {
        "id": "NXQOXsQ5utkQ"
      },
      "execution_count": 21,
      "outputs": []
    },
    {
      "cell_type": "code",
      "source": [
        "time_step = 100\n",
        "x_train, y_train = create_dataset(train_data, time_step)\n",
        "x_test, y_test = create_dataset(test_data, time_step)"
      ],
      "metadata": {
        "id": "GKpufVF1vkvA"
      },
      "execution_count": 22,
      "outputs": []
    },
    {
      "cell_type": "code",
      "source": [
        "#Reshape the input to be [samples, time steps, features] which is the requirement of LSTM\n",
        "x_train = x_train.reshape(x_train.shape[0], x_train.shape[1], 1)\n",
        "x_test = x_test.reshape(x_test.shape[0], x_test.shape[1], 1)"
      ],
      "metadata": {
        "id": "Sg3x1bdEvkyH"
      },
      "execution_count": 23,
      "outputs": []
    },
    {
      "cell_type": "code",
      "source": [
        "print(x_train.shape), print(y_train.shape)"
      ],
      "metadata": {
        "colab": {
          "base_uri": "https://localhost:8080/"
        },
        "id": "yE3IBMexvk1M",
        "outputId": "158c6c75-da71-4c40-bb79-b674abb2b63e"
      },
      "execution_count": 24,
      "outputs": [
        {
          "output_type": "stream",
          "name": "stdout",
          "text": [
            "(1425, 100, 1)\n",
            "(1425,)\n"
          ]
        },
        {
          "output_type": "execute_result",
          "data": {
            "text/plain": [
              "(None, None)"
            ]
          },
          "metadata": {},
          "execution_count": 24
        }
      ]
    },
    {
      "cell_type": "code",
      "source": [
        "print(x_test.shape), print(y_test.shape)"
      ],
      "metadata": {
        "colab": {
          "base_uri": "https://localhost:8080/"
        },
        "id": "RIkxROC4vk38",
        "outputId": "9c03ef4c-d32b-4e60-e1e9-f342e8fac755"
      },
      "execution_count": 25,
      "outputs": [
        {
          "output_type": "stream",
          "name": "stdout",
          "text": [
            "(408, 100, 1)\n",
            "(408,)\n"
          ]
        },
        {
          "output_type": "execute_result",
          "data": {
            "text/plain": [
              "(None, None)"
            ]
          },
          "metadata": {},
          "execution_count": 25
        }
      ]
    },
    {
      "cell_type": "code",
      "source": [
        "import tensorflow as tf\n",
        "from tensorflow.python.keras.models import Sequential\n",
        "from tensorflow.python.keras.layers import Dense\n",
        "from tensorflow.python.keras.layers import LSTM"
      ],
      "metadata": {
        "id": "vfpfwhYavk6v"
      },
      "execution_count": 26,
      "outputs": []
    },
    {
      "cell_type": "code",
      "source": [
        "### Create the Stacked LSTM model\n",
        "model = Sequential()\n",
        "model.add(LSTM(50, return_sequences = True, input_shape = (100,1)))\n",
        "model.add(LSTM(50, return_sequences = True))\n",
        "model.add(LSTM(50))\n",
        "model.add(Dense(1))\n",
        "model.compile(loss = 'mean_squared_error', optimizer = 'adam')"
      ],
      "metadata": {
        "id": "kS84z66Cvk-J"
      },
      "execution_count": 27,
      "outputs": []
    },
    {
      "cell_type": "code",
      "source": [
        "model.summary()"
      ],
      "metadata": {
        "colab": {
          "base_uri": "https://localhost:8080/"
        },
        "id": "c7u8dzvJvzDf",
        "outputId": "03337400-6499-416a-afd2-071f10c8f8a9"
      },
      "execution_count": 28,
      "outputs": [
        {
          "output_type": "stream",
          "name": "stdout",
          "text": [
            "Model: \"sequential\"\n",
            "_________________________________________________________________\n",
            "Layer (type)                 Output Shape              Param #   \n",
            "=================================================================\n",
            "lstm (LSTM)                  (None, 100, 50)           10400     \n",
            "_________________________________________________________________\n",
            "lstm_1 (LSTM)                (None, 100, 50)           20200     \n",
            "_________________________________________________________________\n",
            "lstm_2 (LSTM)                (None, 50)                20200     \n",
            "_________________________________________________________________\n",
            "dense (Dense)                (None, 1)                 51        \n",
            "=================================================================\n",
            "Total params: 50,851\n",
            "Trainable params: 50,851\n",
            "Non-trainable params: 0\n",
            "_________________________________________________________________\n"
          ]
        }
      ]
    },
    {
      "cell_type": "code",
      "source": [
        "model.fit(x_train, y_train, validation_data = (x_test, y_test), epochs = 100, batch_size = 64, verbose = 1)"
      ],
      "metadata": {
        "colab": {
          "base_uri": "https://localhost:8080/"
        },
        "id": "QS3aeY_XvzOL",
        "outputId": "2f0ceb3f-4ed0-4806-8520-1df57e8e4db4"
      },
      "execution_count": 29,
      "outputs": [
        {
          "output_type": "stream",
          "name": "stdout",
          "text": [
            "Epoch 1/100\n",
            "23/23 [==============================] - 21s 438ms/step - loss: 0.0121 - val_loss: 0.0526\n",
            "Epoch 2/100\n",
            "23/23 [==============================] - 11s 457ms/step - loss: 0.0019 - val_loss: 0.0031\n",
            "Epoch 3/100\n",
            "23/23 [==============================] - 11s 463ms/step - loss: 8.0058e-04 - val_loss: 0.0030\n",
            "Epoch 4/100\n",
            "23/23 [==============================] - 11s 467ms/step - loss: 7.4748e-04 - val_loss: 0.0032\n",
            "Epoch 5/100\n",
            "23/23 [==============================] - 11s 469ms/step - loss: 7.1624e-04 - val_loss: 0.0025\n",
            "Epoch 6/100\n",
            "23/23 [==============================] - 9s 403ms/step - loss: 7.6961e-04 - val_loss: 0.0024\n",
            "Epoch 7/100\n",
            "23/23 [==============================] - 11s 454ms/step - loss: 6.6930e-04 - val_loss: 0.0034\n",
            "Epoch 8/100\n",
            "23/23 [==============================] - 12s 531ms/step - loss: 6.5120e-04 - val_loss: 0.0032\n",
            "Epoch 9/100\n",
            "23/23 [==============================] - 12s 512ms/step - loss: 6.5349e-04 - val_loss: 0.0037\n",
            "Epoch 10/100\n",
            "23/23 [==============================] - 11s 466ms/step - loss: 6.1646e-04 - val_loss: 0.0026\n",
            "Epoch 11/100\n",
            "23/23 [==============================] - 11s 479ms/step - loss: 6.1770e-04 - val_loss: 0.0042\n",
            "Epoch 12/100\n",
            "23/23 [==============================] - 10s 436ms/step - loss: 5.3396e-04 - val_loss: 0.0053\n",
            "Epoch 13/100\n",
            "23/23 [==============================] - 10s 423ms/step - loss: 5.3809e-04 - val_loss: 0.0040\n",
            "Epoch 14/100\n",
            "23/23 [==============================] - 11s 464ms/step - loss: 5.4627e-04 - val_loss: 0.0061\n",
            "Epoch 15/100\n",
            "23/23 [==============================] - 11s 465ms/step - loss: 5.0054e-04 - val_loss: 0.0068\n",
            "Epoch 16/100\n",
            "23/23 [==============================] - 11s 467ms/step - loss: 4.8894e-04 - val_loss: 0.0080\n",
            "Epoch 17/100\n",
            "23/23 [==============================] - 10s 428ms/step - loss: 4.8024e-04 - val_loss: 0.0097\n",
            "Epoch 18/100\n",
            "23/23 [==============================] - 10s 424ms/step - loss: 5.0197e-04 - val_loss: 0.0105\n",
            "Epoch 19/100\n",
            "23/23 [==============================] - 11s 468ms/step - loss: 5.1956e-04 - val_loss: 0.0057\n",
            "Epoch 20/100\n",
            "23/23 [==============================] - 11s 464ms/step - loss: 4.6565e-04 - val_loss: 0.0075\n",
            "Epoch 21/100\n",
            "23/23 [==============================] - 11s 466ms/step - loss: 4.3970e-04 - val_loss: 0.0083\n",
            "Epoch 22/100\n",
            "23/23 [==============================] - 10s 424ms/step - loss: 4.2101e-04 - val_loss: 0.0077\n",
            "Epoch 23/100\n",
            "23/23 [==============================] - 10s 433ms/step - loss: 4.2916e-04 - val_loss: 0.0052\n",
            "Epoch 24/100\n",
            "23/23 [==============================] - 11s 470ms/step - loss: 4.0734e-04 - val_loss: 0.0093\n",
            "Epoch 25/100\n",
            "23/23 [==============================] - 11s 472ms/step - loss: 4.3986e-04 - val_loss: 0.0054\n",
            "Epoch 26/100\n",
            "23/23 [==============================] - 11s 471ms/step - loss: 3.9940e-04 - val_loss: 0.0096\n",
            "Epoch 27/100\n",
            "23/23 [==============================] - 10s 433ms/step - loss: 3.6643e-04 - val_loss: 0.0053\n",
            "Epoch 28/100\n",
            "23/23 [==============================] - 10s 426ms/step - loss: 3.5202e-04 - val_loss: 0.0061\n",
            "Epoch 29/100\n",
            "23/23 [==============================] - 11s 473ms/step - loss: 3.4743e-04 - val_loss: 0.0062\n",
            "Epoch 30/100\n",
            "23/23 [==============================] - 11s 473ms/step - loss: 3.5006e-04 - val_loss: 0.0096\n",
            "Epoch 31/100\n",
            "23/23 [==============================] - 11s 472ms/step - loss: 3.5230e-04 - val_loss: 0.0040\n",
            "Epoch 32/100\n",
            "23/23 [==============================] - 10s 453ms/step - loss: 3.1499e-04 - val_loss: 0.0043\n",
            "Epoch 33/100\n",
            "23/23 [==============================] - 10s 413ms/step - loss: 3.0737e-04 - val_loss: 0.0054\n",
            "Epoch 34/100\n",
            "23/23 [==============================] - 11s 473ms/step - loss: 2.9604e-04 - val_loss: 0.0028\n",
            "Epoch 35/100\n",
            "23/23 [==============================] - 11s 477ms/step - loss: 2.9628e-04 - val_loss: 0.0019\n",
            "Epoch 36/100\n",
            "23/23 [==============================] - 11s 473ms/step - loss: 3.2463e-04 - val_loss: 0.0031\n",
            "Epoch 37/100\n",
            "23/23 [==============================] - 11s 466ms/step - loss: 2.7281e-04 - val_loss: 0.0034\n",
            "Epoch 38/100\n",
            "23/23 [==============================] - 9s 408ms/step - loss: 2.5851e-04 - val_loss: 0.0020\n",
            "Epoch 39/100\n",
            "23/23 [==============================] - 11s 469ms/step - loss: 2.5395e-04 - val_loss: 0.0039\n",
            "Epoch 40/100\n",
            "23/23 [==============================] - 11s 468ms/step - loss: 2.3931e-04 - val_loss: 0.0030\n",
            "Epoch 41/100\n",
            "23/23 [==============================] - 11s 468ms/step - loss: 2.3898e-04 - val_loss: 0.0036\n",
            "Epoch 42/100\n",
            "23/23 [==============================] - 11s 474ms/step - loss: 2.7071e-04 - val_loss: 0.0054\n",
            "Epoch 43/100\n",
            "23/23 [==============================] - 9s 407ms/step - loss: 2.2500e-04 - val_loss: 0.0028\n",
            "Epoch 44/100\n",
            "23/23 [==============================] - 11s 470ms/step - loss: 2.1115e-04 - val_loss: 0.0023\n",
            "Epoch 45/100\n",
            "23/23 [==============================] - 11s 470ms/step - loss: 2.0145e-04 - val_loss: 0.0032\n",
            "Epoch 46/100\n",
            "23/23 [==============================] - 11s 467ms/step - loss: 2.0608e-04 - val_loss: 0.0021\n",
            "Epoch 47/100\n",
            "23/23 [==============================] - 11s 467ms/step - loss: 1.9559e-04 - val_loss: 0.0026\n",
            "Epoch 48/100\n",
            "23/23 [==============================] - 9s 407ms/step - loss: 1.8644e-04 - val_loss: 0.0034\n",
            "Epoch 49/100\n",
            "23/23 [==============================] - 11s 466ms/step - loss: 1.8241e-04 - val_loss: 0.0026\n",
            "Epoch 50/100\n",
            "23/23 [==============================] - 11s 466ms/step - loss: 1.7492e-04 - val_loss: 0.0019\n",
            "Epoch 51/100\n",
            "23/23 [==============================] - 11s 463ms/step - loss: 1.7090e-04 - val_loss: 0.0018\n",
            "Epoch 52/100\n",
            "23/23 [==============================] - 11s 467ms/step - loss: 1.7104e-04 - val_loss: 9.9250e-04\n",
            "Epoch 53/100\n",
            "23/23 [==============================] - 9s 405ms/step - loss: 1.6276e-04 - val_loss: 0.0013\n",
            "Epoch 54/100\n",
            "23/23 [==============================] - 11s 467ms/step - loss: 1.7093e-04 - val_loss: 6.9770e-04\n",
            "Epoch 55/100\n",
            "23/23 [==============================] - 11s 469ms/step - loss: 1.5355e-04 - val_loss: 0.0022\n",
            "Epoch 56/100\n",
            "23/23 [==============================] - 11s 467ms/step - loss: 1.6649e-04 - val_loss: 0.0016\n",
            "Epoch 57/100\n",
            "23/23 [==============================] - 11s 466ms/step - loss: 1.6459e-04 - val_loss: 4.5552e-04\n",
            "Epoch 58/100\n",
            "23/23 [==============================] - 9s 405ms/step - loss: 1.4967e-04 - val_loss: 8.8741e-04\n",
            "Epoch 59/100\n",
            "23/23 [==============================] - 11s 467ms/step - loss: 1.5097e-04 - val_loss: 4.0436e-04\n",
            "Epoch 60/100\n",
            "23/23 [==============================] - 11s 468ms/step - loss: 1.4144e-04 - val_loss: 4.4396e-04\n",
            "Epoch 61/100\n",
            "23/23 [==============================] - 11s 463ms/step - loss: 1.3970e-04 - val_loss: 7.5786e-04\n",
            "Epoch 62/100\n",
            "23/23 [==============================] - 10s 457ms/step - loss: 1.3787e-04 - val_loss: 0.0018\n",
            "Epoch 63/100\n",
            "23/23 [==============================] - 9s 403ms/step - loss: 1.3602e-04 - val_loss: 4.0570e-04\n",
            "Epoch 64/100\n",
            "23/23 [==============================] - 11s 465ms/step - loss: 1.2965e-04 - val_loss: 7.0524e-04\n",
            "Epoch 65/100\n",
            "23/23 [==============================] - 11s 466ms/step - loss: 1.2381e-04 - val_loss: 4.0235e-04\n",
            "Epoch 66/100\n",
            "23/23 [==============================] - 11s 463ms/step - loss: 1.2443e-04 - val_loss: 4.3448e-04\n",
            "Epoch 67/100\n",
            "23/23 [==============================] - 10s 441ms/step - loss: 1.2576e-04 - val_loss: 4.8993e-04\n",
            "Epoch 68/100\n",
            "23/23 [==============================] - 10s 409ms/step - loss: 1.3131e-04 - val_loss: 4.5067e-04\n",
            "Epoch 69/100\n",
            "23/23 [==============================] - 11s 463ms/step - loss: 1.1719e-04 - val_loss: 4.3943e-04\n",
            "Epoch 70/100\n",
            "23/23 [==============================] - 11s 464ms/step - loss: 1.1788e-04 - val_loss: 5.0008e-04\n",
            "Epoch 71/100\n",
            "23/23 [==============================] - 11s 467ms/step - loss: 1.1796e-04 - val_loss: 8.0059e-04\n",
            "Epoch 72/100\n",
            "23/23 [==============================] - 10s 433ms/step - loss: 1.2840e-04 - val_loss: 9.9705e-04\n",
            "Epoch 73/100\n",
            "23/23 [==============================] - 10s 422ms/step - loss: 1.1873e-04 - val_loss: 5.7087e-04\n",
            "Epoch 74/100\n",
            "23/23 [==============================] - 11s 464ms/step - loss: 1.1861e-04 - val_loss: 9.7238e-04\n",
            "Epoch 75/100\n",
            "23/23 [==============================] - 11s 468ms/step - loss: 1.1978e-04 - val_loss: 6.4708e-04\n",
            "Epoch 76/100\n",
            "23/23 [==============================] - 11s 466ms/step - loss: 1.2317e-04 - val_loss: 7.2509e-04\n",
            "Epoch 77/100\n",
            "23/23 [==============================] - 10s 428ms/step - loss: 1.2097e-04 - val_loss: 7.5146e-04\n",
            "Epoch 78/100\n",
            "23/23 [==============================] - 10s 430ms/step - loss: 1.8537e-04 - val_loss: 5.8711e-04\n",
            "Epoch 79/100\n",
            "23/23 [==============================] - 11s 467ms/step - loss: 1.2020e-04 - val_loss: 9.8430e-04\n",
            "Epoch 80/100\n",
            "23/23 [==============================] - 11s 467ms/step - loss: 1.2096e-04 - val_loss: 5.7817e-04\n",
            "Epoch 81/100\n",
            "23/23 [==============================] - 11s 469ms/step - loss: 1.2994e-04 - val_loss: 0.0012\n",
            "Epoch 82/100\n",
            "23/23 [==============================] - 10s 420ms/step - loss: 1.2264e-04 - val_loss: 5.6218e-04\n",
            "Epoch 83/100\n",
            "23/23 [==============================] - 10s 431ms/step - loss: 1.2272e-04 - val_loss: 0.0011\n",
            "Epoch 84/100\n",
            "23/23 [==============================] - 11s 466ms/step - loss: 1.1944e-04 - val_loss: 6.5264e-04\n",
            "Epoch 85/100\n",
            "23/23 [==============================] - 11s 468ms/step - loss: 1.1551e-04 - val_loss: 0.0015\n",
            "Epoch 86/100\n",
            "23/23 [==============================] - 11s 465ms/step - loss: 1.2019e-04 - val_loss: 9.5315e-04\n",
            "Epoch 87/100\n",
            "23/23 [==============================] - 9s 412ms/step - loss: 1.2941e-04 - val_loss: 0.0013\n",
            "Epoch 88/100\n",
            "23/23 [==============================] - 11s 447ms/step - loss: 1.2317e-04 - val_loss: 6.1005e-04\n",
            "Epoch 89/100\n",
            "23/23 [==============================] - 11s 466ms/step - loss: 1.2552e-04 - val_loss: 8.5459e-04\n",
            "Epoch 90/100\n",
            "23/23 [==============================] - 11s 468ms/step - loss: 1.1930e-04 - val_loss: 0.0014\n",
            "Epoch 91/100\n",
            "23/23 [==============================] - 11s 467ms/step - loss: 1.1651e-04 - val_loss: 6.2731e-04\n",
            "Epoch 92/100\n",
            "23/23 [==============================] - 9s 410ms/step - loss: 1.1348e-04 - val_loss: 0.0012\n",
            "Epoch 93/100\n",
            "23/23 [==============================] - 11s 445ms/step - loss: 1.1213e-04 - val_loss: 9.4085e-04\n",
            "Epoch 94/100\n",
            "23/23 [==============================] - 11s 468ms/step - loss: 1.1158e-04 - val_loss: 0.0012\n",
            "Epoch 95/100\n",
            "23/23 [==============================] - 11s 470ms/step - loss: 1.2140e-04 - val_loss: 0.0020\n",
            "Epoch 96/100\n",
            "23/23 [==============================] - 11s 466ms/step - loss: 1.1649e-04 - val_loss: 0.0012\n",
            "Epoch 97/100\n",
            "23/23 [==============================] - 9s 409ms/step - loss: 1.1313e-04 - val_loss: 0.0011\n",
            "Epoch 98/100\n",
            "23/23 [==============================] - 11s 447ms/step - loss: 1.3481e-04 - val_loss: 0.0029\n",
            "Epoch 99/100\n",
            "23/23 [==============================] - 11s 466ms/step - loss: 1.6757e-04 - val_loss: 0.0010\n",
            "Epoch 100/100\n",
            "23/23 [==============================] - 11s 468ms/step - loss: 1.4019e-04 - val_loss: 0.0011\n"
          ]
        },
        {
          "output_type": "execute_result",
          "data": {
            "text/plain": [
              "<tensorflow.python.keras.callbacks.History at 0x7f9a1d970e80>"
            ]
          },
          "metadata": {},
          "execution_count": 29
        }
      ]
    },
    {
      "cell_type": "code",
      "source": [
        "#predictions\n",
        "#Lets predict and check performance metrics\n",
        "train_predict = model.predict(x_train)\n",
        "test_predict = model.predict(x_test)"
      ],
      "metadata": {
        "id": "FHtub9yfvzgG"
      },
      "execution_count": 30,
      "outputs": []
    },
    {
      "cell_type": "code",
      "source": [
        "#Transform back to original form\n",
        "train_predict = scaler.inverse_transform(train_predict)\n",
        "test_predict = scaler.inverse_transform(test_predict)"
      ],
      "metadata": {
        "id": "sX8KybHWv-Z-"
      },
      "execution_count": 31,
      "outputs": []
    },
    {
      "cell_type": "code",
      "source": [
        "#Calculate RMSE performance metrics\n",
        "import math\n",
        "from sklearn.metrics import mean_squared_error\n",
        "math.sqrt(mean_squared_error(y_train, train_predict))"
      ],
      "metadata": {
        "colab": {
          "base_uri": "https://localhost:8080/"
        },
        "id": "XV0R37CIv-c9",
        "outputId": "c0dc150b-ed2a-498d-a4d1-ea84600484b1"
      },
      "execution_count": 32,
      "outputs": [
        {
          "output_type": "execute_result",
          "data": {
            "text/plain": [
              "135.71552701061046"
            ]
          },
          "metadata": {},
          "execution_count": 32
        }
      ]
    },
    {
      "cell_type": "code",
      "source": [
        "#Test Data RMSE\n",
        "math.sqrt(mean_squared_error(y_test, test_predict))"
      ],
      "metadata": {
        "colab": {
          "base_uri": "https://localhost:8080/"
        },
        "id": "joZvDep2v-fz",
        "outputId": "0535c408-adb7-4808-89aa-1a4888eeaa5e"
      },
      "execution_count": 33,
      "outputs": [
        {
          "output_type": "execute_result",
          "data": {
            "text/plain": [
              "227.67016183422473"
            ]
          },
          "metadata": {},
          "execution_count": 33
        }
      ]
    },
    {
      "cell_type": "code",
      "source": [
        "#Plotting\n",
        "#Shift train prediction for plotting\n",
        "look_back = 100\n",
        "trainPredictPlot = np.empty_like(df_high)\n",
        "trainPredictPlot[:,:] = np.nan\n",
        "trainPredictPlot[look_back:len(train_predict) + look_back, :] = train_predict\n",
        "\n",
        "#Shift test prediction for plotting\n",
        "testPredictPlot = np.empty_like(df_high)\n",
        "testPredictPlot[:,:] = np.nan\n",
        "testPredictPlot[len(train_predict) + (look_back * 2)+1:len(df_high) - 1, :] = test_predict"
      ],
      "metadata": {
        "id": "199h0Y_iv-ie"
      },
      "execution_count": 34,
      "outputs": []
    },
    {
      "cell_type": "code",
      "source": [
        "#Plot baseline and predictions\n",
        "plt.plot(scaler.inverse_transform(df_high))\n",
        "plt.plot(trainPredictPlot)\n",
        "plt.plot(testPredictPlot)\n",
        "plt.show()\n",
        "\n",
        "print(\"Green indicates the Predicted Data\")\n",
        "print(\"Blue indicates the Complete Data\")\n",
        "print(\"Orange indicates the Train Data\")"
      ],
      "metadata": {
        "colab": {
          "base_uri": "https://localhost:8080/",
          "height": 484
        },
        "id": "L4ijlvlbv-l8",
        "outputId": "2bb7a590-d5fa-41cc-eb3b-28eb5536cf0a"
      },
      "execution_count": 35,
      "outputs": [
        {
          "output_type": "display_data",
          "data": {
            "text/plain": [
              "<Figure size 640x480 with 1 Axes>"
            ],
            "image/png": "[encoded data removed]"
          },
          "metadata": {}
        },
        {
          "output_type": "stream",
          "name": "stdout",
          "text": [
            "Green indicates the Predicted Data\n",
            "Blue indicates the Complete Data\n",
            "Orange indicates the Train Data\n"
          ]
        }
      ]
    },
    {
      "cell_type": "code",
      "source": [
        "#Predict the next 28 days Stock Price\n",
        "len(test_data), x_test.shape"
      ],
      "metadata": {
        "colab": {
          "base_uri": "https://localhost:8080/"
        },
        "id": "W2ncxD2ewbsg",
        "outputId": "6a91891b-7a8e-4716-919a-d82beb29a4c6"
      },
      "execution_count": 36,
      "outputs": [
        {
          "output_type": "execute_result",
          "data": {
            "text/plain": [
              "(509, (408, 100, 1))"
            ]
          },
          "metadata": {},
          "execution_count": 36
        }
      ]
    },
    {
      "cell_type": "code",
      "source": [
        "x_input = test_data[409:].reshape(1,-1)\n",
        "x_input.shape"
      ],
      "metadata": {
        "colab": {
          "base_uri": "https://localhost:8080/"
        },
        "id": "-pyWq2rKwb3r",
        "outputId": "eebbdccb-db6b-4357-cdbc-8f83d806b41a"
      },
      "execution_count": 37,
      "outputs": [
        {
          "output_type": "execute_result",
          "data": {
            "text/plain": [
              "(1, 100)"
            ]
          },
          "metadata": {},
          "execution_count": 37
        }
      ]
    },
    {
      "cell_type": "code",
      "source": [
        "temp_input = list(x_input)\n",
        "temp_input = temp_input[0].tolist()\n",
        "\n",
        "lst_output=[]\n",
        "n_steps=100\n",
        "nextNumberOfDays = 28\n",
        "i=0\n",
        "\n",
        "while(i<nextNumberOfDays):\n",
        "    \n",
        "    if(len(temp_input)>100):\n",
        "        x_input=np.array(temp_input[1:])\n",
        "        print(\"{} day input {}\".format(i,x_input))\n",
        "        x_input=x_input.reshape(1,-1)\n",
        "        x_input = x_input.reshape((1, n_steps, 1))\n",
        "        yhat = model.predict(x_input, verbose=0)\n",
        "        print(\"{} day output {}\".format(i,yhat))\n",
        "        temp_input.extend(yhat[0].tolist())\n",
        "        temp_input=temp_input[1:]\n",
        "        lst_output.extend(yhat.tolist())\n",
        "        i=i+1\n",
        "    else:\n",
        "        x_input = x_input.reshape((1, n_steps,1))\n",
        "        yhat = model.predict(x_input, verbose=0)\n",
        "        print(yhat[0])\n",
        "        temp_input.extend(yhat[0].tolist())\n",
        "        print(len(temp_input))\n",
        "        lst_output.extend(yhat.tolist())\n",
        "        i=i+1\n",
        "    \n",
        "print(lst_output)"
      ],
      "metadata": {
        "colab": {
          "base_uri": "https://localhost:8080/"
        },
        "id": "pLn7WR6AwiyW",
        "outputId": "7f157c88-b1ee-4c71-aee2-ed4ba9d15af5"
      },
      "execution_count": 38,
      "outputs": [
        {
          "output_type": "stream",
          "name": "stdout",
          "text": [
            "[0.6095424]\n",
            "101\n",
            "1 day input [0.86013417 0.85464525 0.84448059 0.8072779  0.71843871 0.66192316\n",
            " 0.67696686 0.67554381 0.67310429 0.68428542 0.68936776 0.70217524\n",
            " 0.71803212 0.72941655 0.73144948 0.74486684 0.76926205 0.75991055\n",
            " 0.74242732 0.73958122 0.74771295 0.75991055 0.7584875  0.76621264\n",
            " 0.75462492 0.76316324 0.79670665 0.80585485 0.7889815  0.78003659\n",
            " 0.73978451 0.73002643 0.73490547 0.74872942 0.75991055 0.75462492\n",
            " 0.75401504 0.76174019 0.7737345  0.82008538 0.80585485 0.81154706\n",
            " 0.77434438 0.78633869 0.79284407 0.78328929 0.77109169 0.74385038\n",
            " 0.71193332 0.68733482 0.67818662 0.65257166 0.64301687 0.65643423\n",
            " 0.67656028 0.67371417 0.65114861 0.65521447 0.66761537 0.67838992\n",
            " 0.69993901 0.63122586 0.63508843 0.64098394 0.64545639 0.64118723\n",
            " 0.63854442 0.63081927 0.62472047 0.6330555  0.64728603 0.6574507\n",
            " 0.66761537 0.66720878 0.64159382 0.62776987 0.63651149 0.63630819\n",
            " 0.62980281 0.62817646 0.63813783 0.65358813 0.63183574 0.57653995\n",
            " 0.57816629 0.57613336 0.61943484 0.57979264 0.57288067 0.62573694\n",
            " 0.63102257 0.6361049  0.62776987 0.6269567  0.63590161 0.62594023\n",
            " 0.6391543  0.62614353 0.62268754 0.60954243]\n",
            "1 day output [[0.5818733]]\n",
            "2 day input [0.85464525 0.84448059 0.8072779  0.71843871 0.66192316 0.67696686\n",
            " 0.67554381 0.67310429 0.68428542 0.68936776 0.70217524 0.71803212\n",
            " 0.72941655 0.73144948 0.74486684 0.76926205 0.75991055 0.74242732\n",
            " 0.73958122 0.74771295 0.75991055 0.7584875  0.76621264 0.75462492\n",
            " 0.76316324 0.79670665 0.80585485 0.7889815  0.78003659 0.73978451\n",
            " 0.73002643 0.73490547 0.74872942 0.75991055 0.75462492 0.75401504\n",
            " 0.76174019 0.7737345  0.82008538 0.80585485 0.81154706 0.77434438\n",
            " 0.78633869 0.79284407 0.78328929 0.77109169 0.74385038 0.71193332\n",
            " 0.68733482 0.67818662 0.65257166 0.64301687 0.65643423 0.67656028\n",
            " 0.67371417 0.65114861 0.65521447 0.66761537 0.67838992 0.69993901\n",
            " 0.63122586 0.63508843 0.64098394 0.64545639 0.64118723 0.63854442\n",
            " 0.63081927 0.62472047 0.6330555  0.64728603 0.6574507  0.66761537\n",
            " 0.66720878 0.64159382 0.62776987 0.63651149 0.63630819 0.62980281\n",
            " 0.62817646 0.63813783 0.65358813 0.63183574 0.57653995 0.57816629\n",
            " 0.57613336 0.61943484 0.57979264 0.57288067 0.62573694 0.63102257\n",
            " 0.6361049  0.62776987 0.6269567  0.63590161 0.62594023 0.6391543\n",
            " 0.62614353 0.62268754 0.60954243 0.5818733 ]\n",
            "2 day output [[0.5490029]]\n",
            "3 day input [0.84448059 0.8072779  0.71843871 0.66192316 0.67696686 0.67554381\n",
            " 0.67310429 0.68428542 0.68936776 0.70217524 0.71803212 0.72941655\n",
            " 0.73144948 0.74486684 0.76926205 0.75991055 0.74242732 0.73958122\n",
            " 0.74771295 0.75991055 0.7584875  0.76621264 0.75462492 0.76316324\n",
            " 0.79670665 0.80585485 0.7889815  0.78003659 0.73978451 0.73002643\n",
            " 0.73490547 0.74872942 0.75991055 0.75462492 0.75401504 0.76174019\n",
            " 0.7737345  0.82008538 0.80585485 0.81154706 0.77434438 0.78633869\n",
            " 0.79284407 0.78328929 0.77109169 0.74385038 0.71193332 0.68733482\n",
            " 0.67818662 0.65257166 0.64301687 0.65643423 0.67656028 0.67371417\n",
            " 0.65114861 0.65521447 0.66761537 0.67838992 0.69993901 0.63122586\n",
            " 0.63508843 0.64098394 0.64545639 0.64118723 0.63854442 0.63081927\n",
            " 0.62472047 0.6330555  0.64728603 0.6574507  0.66761537 0.66720878\n",
            " 0.64159382 0.62776987 0.63651149 0.63630819 0.62980281 0.62817646\n",
            " 0.63813783 0.65358813 0.63183574 0.57653995 0.57816629 0.57613336\n",
            " 0.61943484 0.57979264 0.57288067 0.62573694 0.63102257 0.6361049\n",
            " 0.62776987 0.6269567  0.63590161 0.62594023 0.6391543  0.62614353\n",
            " 0.62268754 0.60954243 0.5818733  0.54900289]\n",
            "3 day output [[0.5192257]]\n",
            "4 day input [0.8072779  0.71843871 0.66192316 0.67696686 0.67554381 0.67310429\n",
            " 0.68428542 0.68936776 0.70217524 0.71803212 0.72941655 0.73144948\n",
            " 0.74486684 0.76926205 0.75991055 0.74242732 0.73958122 0.74771295\n",
            " 0.75991055 0.7584875  0.76621264 0.75462492 0.76316324 0.79670665\n",
            " 0.80585485 0.7889815  0.78003659 0.73978451 0.73002643 0.73490547\n",
            " 0.74872942 0.75991055 0.75462492 0.75401504 0.76174019 0.7737345\n",
            " 0.82008538 0.80585485 0.81154706 0.77434438 0.78633869 0.79284407\n",
            " 0.78328929 0.77109169 0.74385038 0.71193332 0.68733482 0.67818662\n",
            " 0.65257166 0.64301687 0.65643423 0.67656028 0.67371417 0.65114861\n",
            " 0.65521447 0.66761537 0.67838992 0.69993901 0.63122586 0.63508843\n",
            " 0.64098394 0.64545639 0.64118723 0.63854442 0.63081927 0.62472047\n",
            " 0.6330555  0.64728603 0.6574507  0.66761537 0.66720878 0.64159382\n",
            " 0.62776987 0.63651149 0.63630819 0.62980281 0.62817646 0.63813783\n",
            " 0.65358813 0.63183574 0.57653995 0.57816629 0.57613336 0.61943484\n",
            " 0.57979264 0.57288067 0.62573694 0.63102257 0.6361049  0.62776987\n",
            " 0.6269567  0.63590161 0.62594023 0.6391543  0.62614353 0.62268754\n",
            " 0.60954243 0.5818733  0.54900289 0.51922572]\n",
            "4 day output [[0.4943545]]\n",
            "5 day input [0.71843871 0.66192316 0.67696686 0.67554381 0.67310429 0.68428542\n",
            " 0.68936776 0.70217524 0.71803212 0.72941655 0.73144948 0.74486684\n",
            " 0.76926205 0.75991055 0.74242732 0.73958122 0.74771295 0.75991055\n",
            " 0.7584875  0.76621264 0.75462492 0.76316324 0.79670665 0.80585485\n",
            " 0.7889815  0.78003659 0.73978451 0.73002643 0.73490547 0.74872942\n",
            " 0.75991055 0.75462492 0.75401504 0.76174019 0.7737345  0.82008538\n",
            " 0.80585485 0.81154706 0.77434438 0.78633869 0.79284407 0.78328929\n",
            " 0.77109169 0.74385038 0.71193332 0.68733482 0.67818662 0.65257166\n",
            " 0.64301687 0.65643423 0.67656028 0.67371417 0.65114861 0.65521447\n",
            " 0.66761537 0.67838992 0.69993901 0.63122586 0.63508843 0.64098394\n",
            " 0.64545639 0.64118723 0.63854442 0.63081927 0.62472047 0.6330555\n",
            " 0.64728603 0.6574507  0.66761537 0.66720878 0.64159382 0.62776987\n",
            " 0.63651149 0.63630819 0.62980281 0.62817646 0.63813783 0.65358813\n",
            " 0.63183574 0.57653995 0.57816629 0.57613336 0.61943484 0.57979264\n",
            " 0.57288067 0.62573694 0.63102257 0.6361049  0.62776987 0.6269567\n",
            " 0.63590161 0.62594023 0.6391543  0.62614353 0.62268754 0.60954243\n",
            " 0.5818733  0.54900289 0.51922572 0.49435449]\n",
            "5 day output [[0.47400007]]\n",
            "6 day input [0.66192316 0.67696686 0.67554381 0.67310429 0.68428542 0.68936776\n",
            " 0.70217524 0.71803212 0.72941655 0.73144948 0.74486684 0.76926205\n",
            " 0.75991055 0.74242732 0.73958122 0.74771295 0.75991055 0.7584875\n",
            " 0.76621264 0.75462492 0.76316324 0.79670665 0.80585485 0.7889815\n",
            " 0.78003659 0.73978451 0.73002643 0.73490547 0.74872942 0.75991055\n",
            " 0.75462492 0.75401504 0.76174019 0.7737345  0.82008538 0.80585485\n",
            " 0.81154706 0.77434438 0.78633869 0.79284407 0.78328929 0.77109169\n",
            " 0.74385038 0.71193332 0.68733482 0.67818662 0.65257166 0.64301687\n",
            " 0.65643423 0.67656028 0.67371417 0.65114861 0.65521447 0.66761537\n",
            " 0.67838992 0.69993901 0.63122586 0.63508843 0.64098394 0.64545639\n",
            " 0.64118723 0.63854442 0.63081927 0.62472047 0.6330555  0.64728603\n",
            " 0.6574507  0.66761537 0.66720878 0.64159382 0.62776987 0.63651149\n",
            " 0.63630819 0.62980281 0.62817646 0.63813783 0.65358813 0.63183574\n",
            " 0.57653995 0.57816629 0.57613336 0.61943484 0.57979264 0.57288067\n",
            " 0.62573694 0.63102257 0.6361049  0.62776987 0.6269567  0.63590161\n",
            " 0.62594023 0.6391543  0.62614353 0.62268754 0.60954243 0.5818733\n",
            " 0.54900289 0.51922572 0.49435449 0.47400007]\n",
            "6 day output [[0.4573107]]\n",
            "7 day input [0.67696686 0.67554381 0.67310429 0.68428542 0.68936776 0.70217524\n",
            " 0.71803212 0.72941655 0.73144948 0.74486684 0.76926205 0.75991055\n",
            " 0.74242732 0.73958122 0.74771295 0.75991055 0.7584875  0.76621264\n",
            " 0.75462492 0.76316324 0.79670665 0.80585485 0.7889815  0.78003659\n",
            " 0.73978451 0.73002643 0.73490547 0.74872942 0.75991055 0.75462492\n",
            " 0.75401504 0.76174019 0.7737345  0.82008538 0.80585485 0.81154706\n",
            " 0.77434438 0.78633869 0.79284407 0.78328929 0.77109169 0.74385038\n",
            " 0.71193332 0.68733482 0.67818662 0.65257166 0.64301687 0.65643423\n",
            " 0.67656028 0.67371417 0.65114861 0.65521447 0.66761537 0.67838992\n",
            " 0.69993901 0.63122586 0.63508843 0.64098394 0.64545639 0.64118723\n",
            " 0.63854442 0.63081927 0.62472047 0.6330555  0.64728603 0.6574507\n",
            " 0.66761537 0.66720878 0.64159382 0.62776987 0.63651149 0.63630819\n",
            " 0.62980281 0.62817646 0.63813783 0.65358813 0.63183574 0.57653995\n",
            " 0.57816629 0.57613336 0.61943484 0.57979264 0.57288067 0.62573694\n",
            " 0.63102257 0.6361049  0.62776987 0.6269567  0.63590161 0.62594023\n",
            " 0.6391543  0.62614353 0.62268754 0.60954243 0.5818733  0.54900289\n",
            " 0.51922572 0.49435449 0.47400007 0.45731071]\n",
            "7 day output [[0.4435308]]\n",
            "8 day input [0.67554381 0.67310429 0.68428542 0.68936776 0.70217524 0.71803212\n",
            " 0.72941655 0.73144948 0.74486684 0.76926205 0.75991055 0.74242732\n",
            " 0.73958122 0.74771295 0.75991055 0.7584875  0.76621264 0.75462492\n",
            " 0.76316324 0.79670665 0.80585485 0.7889815  0.78003659 0.73978451\n",
            " 0.73002643 0.73490547 0.74872942 0.75991055 0.75462492 0.75401504\n",
            " 0.76174019 0.7737345  0.82008538 0.80585485 0.81154706 0.77434438\n",
            " 0.78633869 0.79284407 0.78328929 0.77109169 0.74385038 0.71193332\n",
            " 0.68733482 0.67818662 0.65257166 0.64301687 0.65643423 0.67656028\n",
            " 0.67371417 0.65114861 0.65521447 0.66761537 0.67838992 0.69993901\n",
            " 0.63122586 0.63508843 0.64098394 0.64545639 0.64118723 0.63854442\n",
            " 0.63081927 0.62472047 0.6330555  0.64728603 0.6574507  0.66761537\n",
            " 0.66720878 0.64159382 0.62776987 0.63651149 0.63630819 0.62980281\n",
            " 0.62817646 0.63813783 0.65358813 0.63183574 0.57653995 0.57816629\n",
            " 0.57613336 0.61943484 0.57979264 0.57288067 0.62573694 0.63102257\n",
            " 0.6361049  0.62776987 0.6269567  0.63590161 0.62594023 0.6391543\n",
            " 0.62614353 0.62268754 0.60954243 0.5818733  0.54900289 0.51922572\n",
            " 0.49435449 0.47400007 0.45731071 0.4435308 ]\n",
            "8 day output [[0.43199122]]\n",
            "9 day input [0.67310429 0.68428542 0.68936776 0.70217524 0.71803212 0.72941655\n",
            " 0.73144948 0.74486684 0.76926205 0.75991055 0.74242732 0.73958122\n",
            " 0.74771295 0.75991055 0.7584875  0.76621264 0.75462492 0.76316324\n",
            " 0.79670665 0.80585485 0.7889815  0.78003659 0.73978451 0.73002643\n",
            " 0.73490547 0.74872942 0.75991055 0.75462492 0.75401504 0.76174019\n",
            " 0.7737345  0.82008538 0.80585485 0.81154706 0.77434438 0.78633869\n",
            " 0.79284407 0.78328929 0.77109169 0.74385038 0.71193332 0.68733482\n",
            " 0.67818662 0.65257166 0.64301687 0.65643423 0.67656028 0.67371417\n",
            " 0.65114861 0.65521447 0.66761537 0.67838992 0.69993901 0.63122586\n",
            " 0.63508843 0.64098394 0.64545639 0.64118723 0.63854442 0.63081927\n",
            " 0.62472047 0.6330555  0.64728603 0.6574507  0.66761537 0.66720878\n",
            " 0.64159382 0.62776987 0.63651149 0.63630819 0.62980281 0.62817646\n",
            " 0.63813783 0.65358813 0.63183574 0.57653995 0.57816629 0.57613336\n",
            " 0.61943484 0.57979264 0.57288067 0.62573694 0.63102257 0.6361049\n",
            " 0.62776987 0.6269567  0.63590161 0.62594023 0.6391543  0.62614353\n",
            " 0.62268754 0.60954243 0.5818733  0.54900289 0.51922572 0.49435449\n",
            " 0.47400007 0.45731071 0.4435308  0.43199122]\n",
            "9 day output [[0.42203388]]\n",
            "10 day input [0.68428542 0.68936776 0.70217524 0.71803212 0.72941655 0.73144948\n",
            " 0.74486684 0.76926205 0.75991055 0.74242732 0.73958122 0.74771295\n",
            " 0.75991055 0.7584875  0.76621264 0.75462492 0.76316324 0.79670665\n",
            " 0.80585485 0.7889815  0.78003659 0.73978451 0.73002643 0.73490547\n",
            " 0.74872942 0.75991055 0.75462492 0.75401504 0.76174019 0.7737345\n",
            " 0.82008538 0.80585485 0.81154706 0.77434438 0.78633869 0.79284407\n",
            " 0.78328929 0.77109169 0.74385038 0.71193332 0.68733482 0.67818662\n",
            " 0.65257166 0.64301687 0.65643423 0.67656028 0.67371417 0.65114861\n",
            " 0.65521447 0.66761537 0.67838992 0.69993901 0.63122586 0.63508843\n",
            " 0.64098394 0.64545639 0.64118723 0.63854442 0.63081927 0.62472047\n",
            " 0.6330555  0.64728603 0.6574507  0.66761537 0.66720878 0.64159382\n",
            " 0.62776987 0.63651149 0.63630819 0.62980281 0.62817646 0.63813783\n",
            " 0.65358813 0.63183574 0.57653995 0.57816629 0.57613336 0.61943484\n",
            " 0.57979264 0.57288067 0.62573694 0.63102257 0.6361049  0.62776987\n",
            " 0.6269567  0.63590161 0.62594023 0.6391543  0.62614353 0.62268754\n",
            " 0.60954243 0.5818733  0.54900289 0.51922572 0.49435449 0.47400007\n",
            " 0.45731071 0.4435308  0.43199122 0.42203388]\n",
            "10 day output [[0.4136066]]\n",
            "11 day input [0.68936776 0.70217524 0.71803212 0.72941655 0.73144948 0.74486684\n",
            " 0.76926205 0.75991055 0.74242732 0.73958122 0.74771295 0.75991055\n",
            " 0.7584875  0.76621264 0.75462492 0.76316324 0.79670665 0.80585485\n",
            " 0.7889815  0.78003659 0.73978451 0.73002643 0.73490547 0.74872942\n",
            " 0.75991055 0.75462492 0.75401504 0.76174019 0.7737345  0.82008538\n",
            " 0.80585485 0.81154706 0.77434438 0.78633869 0.79284407 0.78328929\n",
            " 0.77109169 0.74385038 0.71193332 0.68733482 0.67818662 0.65257166\n",
            " 0.64301687 0.65643423 0.67656028 0.67371417 0.65114861 0.65521447\n",
            " 0.66761537 0.67838992 0.69993901 0.63122586 0.63508843 0.64098394\n",
            " 0.64545639 0.64118723 0.63854442 0.63081927 0.62472047 0.6330555\n",
            " 0.64728603 0.6574507  0.66761537 0.66720878 0.64159382 0.62776987\n",
            " 0.63651149 0.63630819 0.62980281 0.62817646 0.63813783 0.65358813\n",
            " 0.63183574 0.57653995 0.57816629 0.57613336 0.61943484 0.57979264\n",
            " 0.57288067 0.62573694 0.63102257 0.6361049  0.62776987 0.6269567\n",
            " 0.63590161 0.62594023 0.6391543  0.62614353 0.62268754 0.60954243\n",
            " 0.5818733  0.54900289 0.51922572 0.49435449 0.47400007 0.45731071\n",
            " 0.4435308  0.43199122 0.42203388 0.41360661]\n",
            "11 day output [[0.4064535]]\n",
            "12 day input [0.70217524 0.71803212 0.72941655 0.73144948 0.74486684 0.76926205\n",
            " 0.75991055 0.74242732 0.73958122 0.74771295 0.75991055 0.7584875\n",
            " 0.76621264 0.75462492 0.76316324 0.79670665 0.80585485 0.7889815\n",
            " 0.78003659 0.73978451 0.73002643 0.73490547 0.74872942 0.75991055\n",
            " 0.75462492 0.75401504 0.76174019 0.7737345  0.82008538 0.80585485\n",
            " 0.81154706 0.77434438 0.78633869 0.79284407 0.78328929 0.77109169\n",
            " 0.74385038 0.71193332 0.68733482 0.67818662 0.65257166 0.64301687\n",
            " 0.65643423 0.67656028 0.67371417 0.65114861 0.65521447 0.66761537\n",
            " 0.67838992 0.69993901 0.63122586 0.63508843 0.64098394 0.64545639\n",
            " 0.64118723 0.63854442 0.63081927 0.62472047 0.6330555  0.64728603\n",
            " 0.6574507  0.66761537 0.66720878 0.64159382 0.62776987 0.63651149\n",
            " 0.63630819 0.62980281 0.62817646 0.63813783 0.65358813 0.63183574\n",
            " 0.57653995 0.57816629 0.57613336 0.61943484 0.57979264 0.57288067\n",
            " 0.62573694 0.63102257 0.6361049  0.62776987 0.6269567  0.63590161\n",
            " 0.62594023 0.6391543  0.62614353 0.62268754 0.60954243 0.5818733\n",
            " 0.54900289 0.51922572 0.49435449 0.47400007 0.45731071 0.4435308\n",
            " 0.43199122 0.42203388 0.41360661 0.40645349]\n",
            "12 day output [[0.4002664]]\n",
            "13 day input [0.71803212 0.72941655 0.73144948 0.74486684 0.76926205 0.75991055\n",
            " 0.74242732 0.73958122 0.74771295 0.75991055 0.7584875  0.76621264\n",
            " 0.75462492 0.76316324 0.79670665 0.80585485 0.7889815  0.78003659\n",
            " 0.73978451 0.73002643 0.73490547 0.74872942 0.75991055 0.75462492\n",
            " 0.75401504 0.76174019 0.7737345  0.82008538 0.80585485 0.81154706\n",
            " 0.77434438 0.78633869 0.79284407 0.78328929 0.77109169 0.74385038\n",
            " 0.71193332 0.68733482 0.67818662 0.65257166 0.64301687 0.65643423\n",
            " 0.67656028 0.67371417 0.65114861 0.65521447 0.66761537 0.67838992\n",
            " 0.69993901 0.63122586 0.63508843 0.64098394 0.64545639 0.64118723\n",
            " 0.63854442 0.63081927 0.62472047 0.6330555  0.64728603 0.6574507\n",
            " 0.66761537 0.66720878 0.64159382 0.62776987 0.63651149 0.63630819\n",
            " 0.62980281 0.62817646 0.63813783 0.65358813 0.63183574 0.57653995\n",
            " 0.57816629 0.57613336 0.61943484 0.57979264 0.57288067 0.62573694\n",
            " 0.63102257 0.6361049  0.62776987 0.6269567  0.63590161 0.62594023\n",
            " 0.6391543  0.62614353 0.62268754 0.60954243 0.5818733  0.54900289\n",
            " 0.51922572 0.49435449 0.47400007 0.45731071 0.4435308  0.43199122\n",
            " 0.42203388 0.41360661 0.40645349 0.40026641]\n",
            "13 day output [[0.39478576]]\n",
            "14 day input [0.72941655 0.73144948 0.74486684 0.76926205 0.75991055 0.74242732\n",
            " 0.73958122 0.74771295 0.75991055 0.7584875  0.76621264 0.75462492\n",
            " 0.76316324 0.79670665 0.80585485 0.7889815  0.78003659 0.73978451\n",
            " 0.73002643 0.73490547 0.74872942 0.75991055 0.75462492 0.75401504\n",
            " 0.76174019 0.7737345  0.82008538 0.80585485 0.81154706 0.77434438\n",
            " 0.78633869 0.79284407 0.78328929 0.77109169 0.74385038 0.71193332\n",
            " 0.68733482 0.67818662 0.65257166 0.64301687 0.65643423 0.67656028\n",
            " 0.67371417 0.65114861 0.65521447 0.66761537 0.67838992 0.69993901\n",
            " 0.63122586 0.63508843 0.64098394 0.64545639 0.64118723 0.63854442\n",
            " 0.63081927 0.62472047 0.6330555  0.64728603 0.6574507  0.66761537\n",
            " 0.66720878 0.64159382 0.62776987 0.63651149 0.63630819 0.62980281\n",
            " 0.62817646 0.63813783 0.65358813 0.63183574 0.57653995 0.57816629\n",
            " 0.57613336 0.61943484 0.57979264 0.57288067 0.62573694 0.63102257\n",
            " 0.6361049  0.62776987 0.6269567  0.63590161 0.62594023 0.6391543\n",
            " 0.62614353 0.62268754 0.60954243 0.5818733  0.54900289 0.51922572\n",
            " 0.49435449 0.47400007 0.45731071 0.4435308  0.43199122 0.42203388\n",
            " 0.41360661 0.40645349 0.40026641 0.39478576]\n",
            "14 day output [[0.38982302]]\n",
            "15 day input [0.73144948 0.74486684 0.76926205 0.75991055 0.74242732 0.73958122\n",
            " 0.74771295 0.75991055 0.7584875  0.76621264 0.75462492 0.76316324\n",
            " 0.79670665 0.80585485 0.7889815  0.78003659 0.73978451 0.73002643\n",
            " 0.73490547 0.74872942 0.75991055 0.75462492 0.75401504 0.76174019\n",
            " 0.7737345  0.82008538 0.80585485 0.81154706 0.77434438 0.78633869\n",
            " 0.79284407 0.78328929 0.77109169 0.74385038 0.71193332 0.68733482\n",
            " 0.67818662 0.65257166 0.64301687 0.65643423 0.67656028 0.67371417\n",
            " 0.65114861 0.65521447 0.66761537 0.67838992 0.69993901 0.63122586\n",
            " 0.63508843 0.64098394 0.64545639 0.64118723 0.63854442 0.63081927\n",
            " 0.62472047 0.6330555  0.64728603 0.6574507  0.66761537 0.66720878\n",
            " 0.64159382 0.62776987 0.63651149 0.63630819 0.62980281 0.62817646\n",
            " 0.63813783 0.65358813 0.63183574 0.57653995 0.57816629 0.57613336\n",
            " 0.61943484 0.57979264 0.57288067 0.62573694 0.63102257 0.6361049\n",
            " 0.62776987 0.6269567  0.63590161 0.62594023 0.6391543  0.62614353\n",
            " 0.62268754 0.60954243 0.5818733  0.54900289 0.51922572 0.49435449\n",
            " 0.47400007 0.45731071 0.4435308  0.43199122 0.42203388 0.41360661\n",
            " 0.40645349 0.40026641 0.39478576 0.38982302]\n",
            "15 day output [[0.38524324]]\n",
            "16 day input [0.74486684 0.76926205 0.75991055 0.74242732 0.73958122 0.74771295\n",
            " 0.75991055 0.7584875  0.76621264 0.75462492 0.76316324 0.79670665\n",
            " 0.80585485 0.7889815  0.78003659 0.73978451 0.73002643 0.73490547\n",
            " 0.74872942 0.75991055 0.75462492 0.75401504 0.76174019 0.7737345\n",
            " 0.82008538 0.80585485 0.81154706 0.77434438 0.78633869 0.79284407\n",
            " 0.78328929 0.77109169 0.74385038 0.71193332 0.68733482 0.67818662\n",
            " 0.65257166 0.64301687 0.65643423 0.67656028 0.67371417 0.65114861\n",
            " 0.65521447 0.66761537 0.67838992 0.69993901 0.63122586 0.63508843\n",
            " 0.64098394 0.64545639 0.64118723 0.63854442 0.63081927 0.62472047\n",
            " 0.6330555  0.64728603 0.6574507  0.66761537 0.66720878 0.64159382\n",
            " 0.62776987 0.63651149 0.63630819 0.62980281 0.62817646 0.63813783\n",
            " 0.65358813 0.63183574 0.57653995 0.57816629 0.57613336 0.61943484\n",
            " 0.57979264 0.57288067 0.62573694 0.63102257 0.6361049  0.62776987\n",
            " 0.6269567  0.63590161 0.62594023 0.6391543  0.62614353 0.62268754\n",
            " 0.60954243 0.5818733  0.54900289 0.51922572 0.49435449 0.47400007\n",
            " 0.45731071 0.4435308  0.43199122 0.42203388 0.41360661 0.40645349\n",
            " 0.40026641 0.39478576 0.38982302 0.38524324]\n",
            "16 day output [[0.38095263]]\n",
            "17 day input [0.76926205 0.75991055 0.74242732 0.73958122 0.74771295 0.75991055\n",
            " 0.7584875  0.76621264 0.75462492 0.76316324 0.79670665 0.80585485\n",
            " 0.7889815  0.78003659 0.73978451 0.73002643 0.73490547 0.74872942\n",
            " 0.75991055 0.75462492 0.75401504 0.76174019 0.7737345  0.82008538\n",
            " 0.80585485 0.81154706 0.77434438 0.78633869 0.79284407 0.78328929\n",
            " 0.77109169 0.74385038 0.71193332 0.68733482 0.67818662 0.65257166\n",
            " 0.64301687 0.65643423 0.67656028 0.67371417 0.65114861 0.65521447\n",
            " 0.66761537 0.67838992 0.69993901 0.63122586 0.63508843 0.64098394\n",
            " 0.64545639 0.64118723 0.63854442 0.63081927 0.62472047 0.6330555\n",
            " 0.64728603 0.6574507  0.66761537 0.66720878 0.64159382 0.62776987\n",
            " 0.63651149 0.63630819 0.62980281 0.62817646 0.63813783 0.65358813\n",
            " 0.63183574 0.57653995 0.57816629 0.57613336 0.61943484 0.57979264\n",
            " 0.57288067 0.62573694 0.63102257 0.6361049  0.62776987 0.6269567\n",
            " 0.63590161 0.62594023 0.6391543  0.62614353 0.62268754 0.60954243\n",
            " 0.5818733  0.54900289 0.51922572 0.49435449 0.47400007 0.45731071\n",
            " 0.4435308  0.43199122 0.42203388 0.41360661 0.40645349 0.40026641\n",
            " 0.39478576 0.38982302 0.38524324 0.38095263]\n",
            "17 day output [[0.37688842]]\n",
            "18 day input [0.75991055 0.74242732 0.73958122 0.74771295 0.75991055 0.7584875\n",
            " 0.76621264 0.75462492 0.76316324 0.79670665 0.80585485 0.7889815\n",
            " 0.78003659 0.73978451 0.73002643 0.73490547 0.74872942 0.75991055\n",
            " 0.75462492 0.75401504 0.76174019 0.7737345  0.82008538 0.80585485\n",
            " 0.81154706 0.77434438 0.78633869 0.79284407 0.78328929 0.77109169\n",
            " 0.74385038 0.71193332 0.68733482 0.67818662 0.65257166 0.64301687\n",
            " 0.65643423 0.67656028 0.67371417 0.65114861 0.65521447 0.66761537\n",
            " 0.67838992 0.69993901 0.63122586 0.63508843 0.64098394 0.64545639\n",
            " 0.64118723 0.63854442 0.63081927 0.62472047 0.6330555  0.64728603\n",
            " 0.6574507  0.66761537 0.66720878 0.64159382 0.62776987 0.63651149\n",
            " 0.63630819 0.62980281 0.62817646 0.63813783 0.65358813 0.63183574\n",
            " 0.57653995 0.57816629 0.57613336 0.61943484 0.57979264 0.57288067\n",
            " 0.62573694 0.63102257 0.6361049  0.62776987 0.6269567  0.63590161\n",
            " 0.62594023 0.6391543  0.62614353 0.62268754 0.60954243 0.5818733\n",
            " 0.54900289 0.51922572 0.49435449 0.47400007 0.45731071 0.4435308\n",
            " 0.43199122 0.42203388 0.41360661 0.40645349 0.40026641 0.39478576\n",
            " 0.38982302 0.38524324 0.38095263 0.37688842]\n",
            "18 day output [[0.37301055]]\n",
            "19 day input [0.74242732 0.73958122 0.74771295 0.75991055 0.7584875  0.76621264\n",
            " 0.75462492 0.76316324 0.79670665 0.80585485 0.7889815  0.78003659\n",
            " 0.73978451 0.73002643 0.73490547 0.74872942 0.75991055 0.75462492\n",
            " 0.75401504 0.76174019 0.7737345  0.82008538 0.80585485 0.81154706\n",
            " 0.77434438 0.78633869 0.79284407 0.78328929 0.77109169 0.74385038\n",
            " 0.71193332 0.68733482 0.67818662 0.65257166 0.64301687 0.65643423\n",
            " 0.67656028 0.67371417 0.65114861 0.65521447 0.66761537 0.67838992\n",
            " 0.69993901 0.63122586 0.63508843 0.64098394 0.64545639 0.64118723\n",
            " 0.63854442 0.63081927 0.62472047 0.6330555  0.64728603 0.6574507\n",
            " 0.66761537 0.66720878 0.64159382 0.62776987 0.63651149 0.63630819\n",
            " 0.62980281 0.62817646 0.63813783 0.65358813 0.63183574 0.57653995\n",
            " 0.57816629 0.57613336 0.61943484 0.57979264 0.57288067 0.62573694\n",
            " 0.63102257 0.6361049  0.62776987 0.6269567  0.63590161 0.62594023\n",
            " 0.6391543  0.62614353 0.62268754 0.60954243 0.5818733  0.54900289\n",
            " 0.51922572 0.49435449 0.47400007 0.45731071 0.4435308  0.43199122\n",
            " 0.42203388 0.41360661 0.40645349 0.40026641 0.39478576 0.38982302\n",
            " 0.38524324 0.38095263 0.37688842 0.37301055]\n",
            "19 day output [[0.36929536]]\n",
            "20 day input [0.73958122 0.74771295 0.75991055 0.7584875  0.76621264 0.75462492\n",
            " 0.76316324 0.79670665 0.80585485 0.7889815  0.78003659 0.73978451\n",
            " 0.73002643 0.73490547 0.74872942 0.75991055 0.75462492 0.75401504\n",
            " 0.76174019 0.7737345  0.82008538 0.80585485 0.81154706 0.77434438\n",
            " 0.78633869 0.79284407 0.78328929 0.77109169 0.74385038 0.71193332\n",
            " 0.68733482 0.67818662 0.65257166 0.64301687 0.65643423 0.67656028\n",
            " 0.67371417 0.65114861 0.65521447 0.66761537 0.67838992 0.69993901\n",
            " 0.63122586 0.63508843 0.64098394 0.64545639 0.64118723 0.63854442\n",
            " 0.63081927 0.62472047 0.6330555  0.64728603 0.6574507  0.66761537\n",
            " 0.66720878 0.64159382 0.62776987 0.63651149 0.63630819 0.62980281\n",
            " 0.62817646 0.63813783 0.65358813 0.63183574 0.57653995 0.57816629\n",
            " 0.57613336 0.61943484 0.57979264 0.57288067 0.62573694 0.63102257\n",
            " 0.6361049  0.62776987 0.6269567  0.63590161 0.62594023 0.6391543\n",
            " 0.62614353 0.62268754 0.60954243 0.5818733  0.54900289 0.51922572\n",
            " 0.49435449 0.47400007 0.45731071 0.4435308  0.43199122 0.42203388\n",
            " 0.41360661 0.40645349 0.40026641 0.39478576 0.38982302 0.38524324\n",
            " 0.38095263 0.37688842 0.37301055 0.36929536]\n",
            "20 day output [[0.3657299]]\n",
            "21 day input [0.74771295 0.75991055 0.7584875  0.76621264 0.75462492 0.76316324\n",
            " 0.79670665 0.80585485 0.7889815  0.78003659 0.73978451 0.73002643\n",
            " 0.73490547 0.74872942 0.75991055 0.75462492 0.75401504 0.76174019\n",
            " 0.7737345  0.82008538 0.80585485 0.81154706 0.77434438 0.78633869\n",
            " 0.79284407 0.78328929 0.77109169 0.74385038 0.71193332 0.68733482\n",
            " 0.67818662 0.65257166 0.64301687 0.65643423 0.67656028 0.67371417\n",
            " 0.65114861 0.65521447 0.66761537 0.67838992 0.69993901 0.63122586\n",
            " 0.63508843 0.64098394 0.64545639 0.64118723 0.63854442 0.63081927\n",
            " 0.62472047 0.6330555  0.64728603 0.6574507  0.66761537 0.66720878\n",
            " 0.64159382 0.62776987 0.63651149 0.63630819 0.62980281 0.62817646\n",
            " 0.63813783 0.65358813 0.63183574 0.57653995 0.57816629 0.57613336\n",
            " 0.61943484 0.57979264 0.57288067 0.62573694 0.63102257 0.6361049\n",
            " 0.62776987 0.6269567  0.63590161 0.62594023 0.6391543  0.62614353\n",
            " 0.62268754 0.60954243 0.5818733  0.54900289 0.51922572 0.49435449\n",
            " 0.47400007 0.45731071 0.4435308  0.43199122 0.42203388 0.41360661\n",
            " 0.40645349 0.40026641 0.39478576 0.38982302 0.38524324 0.38095263\n",
            " 0.37688842 0.37301055 0.36929536 0.3657299 ]\n",
            "21 day output [[0.36230886]]\n",
            "22 day input [0.75991055 0.7584875  0.76621264 0.75462492 0.76316324 0.79670665\n",
            " 0.80585485 0.7889815  0.78003659 0.73978451 0.73002643 0.73490547\n",
            " 0.74872942 0.75991055 0.75462492 0.75401504 0.76174019 0.7737345\n",
            " 0.82008538 0.80585485 0.81154706 0.77434438 0.78633869 0.79284407\n",
            " 0.78328929 0.77109169 0.74385038 0.71193332 0.68733482 0.67818662\n",
            " 0.65257166 0.64301687 0.65643423 0.67656028 0.67371417 0.65114861\n",
            " 0.65521447 0.66761537 0.67838992 0.69993901 0.63122586 0.63508843\n",
            " 0.64098394 0.64545639 0.64118723 0.63854442 0.63081927 0.62472047\n",
            " 0.6330555  0.64728603 0.6574507  0.66761537 0.66720878 0.64159382\n",
            " 0.62776987 0.63651149 0.63630819 0.62980281 0.62817646 0.63813783\n",
            " 0.65358813 0.63183574 0.57653995 0.57816629 0.57613336 0.61943484\n",
            " 0.57979264 0.57288067 0.62573694 0.63102257 0.6361049  0.62776987\n",
            " 0.6269567  0.63590161 0.62594023 0.6391543  0.62614353 0.62268754\n",
            " 0.60954243 0.5818733  0.54900289 0.51922572 0.49435449 0.47400007\n",
            " 0.45731071 0.4435308  0.43199122 0.42203388 0.41360661 0.40645349\n",
            " 0.40026641 0.39478576 0.38982302 0.38524324 0.38095263 0.37688842\n",
            " 0.37301055 0.36929536 0.3657299  0.36230886]\n",
            "22 day output [[0.35903078]]\n",
            "23 day input [0.7584875  0.76621264 0.75462492 0.76316324 0.79670665 0.80585485\n",
            " 0.7889815  0.78003659 0.73978451 0.73002643 0.73490547 0.74872942\n",
            " 0.75991055 0.75462492 0.75401504 0.76174019 0.7737345  0.82008538\n",
            " 0.80585485 0.81154706 0.77434438 0.78633869 0.79284407 0.78328929\n",
            " 0.77109169 0.74385038 0.71193332 0.68733482 0.67818662 0.65257166\n",
            " 0.64301687 0.65643423 0.67656028 0.67371417 0.65114861 0.65521447\n",
            " 0.66761537 0.67838992 0.69993901 0.63122586 0.63508843 0.64098394\n",
            " 0.64545639 0.64118723 0.63854442 0.63081927 0.62472047 0.6330555\n",
            " 0.64728603 0.6574507  0.66761537 0.66720878 0.64159382 0.62776987\n",
            " 0.63651149 0.63630819 0.62980281 0.62817646 0.63813783 0.65358813\n",
            " 0.63183574 0.57653995 0.57816629 0.57613336 0.61943484 0.57979264\n",
            " 0.57288067 0.62573694 0.63102257 0.6361049  0.62776987 0.6269567\n",
            " 0.63590161 0.62594023 0.6391543  0.62614353 0.62268754 0.60954243\n",
            " 0.5818733  0.54900289 0.51922572 0.49435449 0.47400007 0.45731071\n",
            " 0.4435308  0.43199122 0.42203388 0.41360661 0.40645349 0.40026641\n",
            " 0.39478576 0.38982302 0.38524324 0.38095263 0.37688842 0.37301055\n",
            " 0.36929536 0.3657299  0.36230886 0.35903078]\n",
            "23 day output [[0.3558966]]\n",
            "24 day input [0.76621264 0.75462492 0.76316324 0.79670665 0.80585485 0.7889815\n",
            " 0.78003659 0.73978451 0.73002643 0.73490547 0.74872942 0.75991055\n",
            " 0.75462492 0.75401504 0.76174019 0.7737345  0.82008538 0.80585485\n",
            " 0.81154706 0.77434438 0.78633869 0.79284407 0.78328929 0.77109169\n",
            " 0.74385038 0.71193332 0.68733482 0.67818662 0.65257166 0.64301687\n",
            " 0.65643423 0.67656028 0.67371417 0.65114861 0.65521447 0.66761537\n",
            " 0.67838992 0.69993901 0.63122586 0.63508843 0.64098394 0.64545639\n",
            " 0.64118723 0.63854442 0.63081927 0.62472047 0.6330555  0.64728603\n",
            " 0.6574507  0.66761537 0.66720878 0.64159382 0.62776987 0.63651149\n",
            " 0.63630819 0.62980281 0.62817646 0.63813783 0.65358813 0.63183574\n",
            " 0.57653995 0.57816629 0.57613336 0.61943484 0.57979264 0.57288067\n",
            " 0.62573694 0.63102257 0.6361049  0.62776987 0.6269567  0.63590161\n",
            " 0.62594023 0.6391543  0.62614353 0.62268754 0.60954243 0.5818733\n",
            " 0.54900289 0.51922572 0.49435449 0.47400007 0.45731071 0.4435308\n",
            " 0.43199122 0.42203388 0.41360661 0.40645349 0.40026641 0.39478576\n",
            " 0.38982302 0.38524324 0.38095263 0.37688842 0.37301055 0.36929536\n",
            " 0.3657299  0.36230886 0.35903078 0.35589659]\n",
            "24 day output [[0.35285696]]\n",
            "25 day input [0.75462492 0.76316324 0.79670665 0.80585485 0.7889815  0.78003659\n",
            " 0.73978451 0.73002643 0.73490547 0.74872942 0.75991055 0.75462492\n",
            " 0.75401504 0.76174019 0.7737345  0.82008538 0.80585485 0.81154706\n",
            " 0.77434438 0.78633869 0.79284407 0.78328929 0.77109169 0.74385038\n",
            " 0.71193332 0.68733482 0.67818662 0.65257166 0.64301687 0.65643423\n",
            " 0.67656028 0.67371417 0.65114861 0.65521447 0.66761537 0.67838992\n",
            " 0.69993901 0.63122586 0.63508843 0.64098394 0.64545639 0.64118723\n",
            " 0.63854442 0.63081927 0.62472047 0.6330555  0.64728603 0.6574507\n",
            " 0.66761537 0.66720878 0.64159382 0.62776987 0.63651149 0.63630819\n",
            " 0.62980281 0.62817646 0.63813783 0.65358813 0.63183574 0.57653995\n",
            " 0.57816629 0.57613336 0.61943484 0.57979264 0.57288067 0.62573694\n",
            " 0.63102257 0.6361049  0.62776987 0.6269567  0.63590161 0.62594023\n",
            " 0.6391543  0.62614353 0.62268754 0.60954243 0.5818733  0.54900289\n",
            " 0.51922572 0.49435449 0.47400007 0.45731071 0.4435308  0.43199122\n",
            " 0.42203388 0.41360661 0.40645349 0.40026641 0.39478576 0.38982302\n",
            " 0.38524324 0.38095263 0.37688842 0.37301055 0.36929536 0.3657299\n",
            " 0.36230886 0.35903078 0.35589659 0.35285696]\n",
            "25 day output [[0.3499398]]\n",
            "26 day input [0.76316324 0.79670665 0.80585485 0.7889815  0.78003659 0.73978451\n",
            " 0.73002643 0.73490547 0.74872942 0.75991055 0.75462492 0.75401504\n",
            " 0.76174019 0.7737345  0.82008538 0.80585485 0.81154706 0.77434438\n",
            " 0.78633869 0.79284407 0.78328929 0.77109169 0.74385038 0.71193332\n",
            " 0.68733482 0.67818662 0.65257166 0.64301687 0.65643423 0.67656028\n",
            " 0.67371417 0.65114861 0.65521447 0.66761537 0.67838992 0.69993901\n",
            " 0.63122586 0.63508843 0.64098394 0.64545639 0.64118723 0.63854442\n",
            " 0.63081927 0.62472047 0.6330555  0.64728603 0.6574507  0.66761537\n",
            " 0.66720878 0.64159382 0.62776987 0.63651149 0.63630819 0.62980281\n",
            " 0.62817646 0.63813783 0.65358813 0.63183574 0.57653995 0.57816629\n",
            " 0.57613336 0.61943484 0.57979264 0.57288067 0.62573694 0.63102257\n",
            " 0.6361049  0.62776987 0.6269567  0.63590161 0.62594023 0.6391543\n",
            " 0.62614353 0.62268754 0.60954243 0.5818733  0.54900289 0.51922572\n",
            " 0.49435449 0.47400007 0.45731071 0.4435308  0.43199122 0.42203388\n",
            " 0.41360661 0.40645349 0.40026641 0.39478576 0.38982302 0.38524324\n",
            " 0.38095263 0.37688842 0.37301055 0.36929536 0.3657299  0.36230886\n",
            " 0.35903078 0.35589659 0.35285696 0.34993979]\n",
            "26 day output [[0.34716114]]\n",
            "27 day input [0.79670665 0.80585485 0.7889815  0.78003659 0.73978451 0.73002643\n",
            " 0.73490547 0.74872942 0.75991055 0.75462492 0.75401504 0.76174019\n",
            " 0.7737345  0.82008538 0.80585485 0.81154706 0.77434438 0.78633869\n",
            " 0.79284407 0.78328929 0.77109169 0.74385038 0.71193332 0.68733482\n",
            " 0.67818662 0.65257166 0.64301687 0.65643423 0.67656028 0.67371417\n",
            " 0.65114861 0.65521447 0.66761537 0.67838992 0.69993901 0.63122586\n",
            " 0.63508843 0.64098394 0.64545639 0.64118723 0.63854442 0.63081927\n",
            " 0.62472047 0.6330555  0.64728603 0.6574507  0.66761537 0.66720878\n",
            " 0.64159382 0.62776987 0.63651149 0.63630819 0.62980281 0.62817646\n",
            " 0.63813783 0.65358813 0.63183574 0.57653995 0.57816629 0.57613336\n",
            " 0.61943484 0.57979264 0.57288067 0.62573694 0.63102257 0.6361049\n",
            " 0.62776987 0.6269567  0.63590161 0.62594023 0.6391543  0.62614353\n",
            " 0.62268754 0.60954243 0.5818733  0.54900289 0.51922572 0.49435449\n",
            " 0.47400007 0.45731071 0.4435308  0.43199122 0.42203388 0.41360661\n",
            " 0.40645349 0.40026641 0.39478576 0.38982302 0.38524324 0.38095263\n",
            " 0.37688842 0.37301055 0.36929536 0.3657299  0.36230886 0.35903078\n",
            " 0.35589659 0.35285696 0.34993979 0.34716114]\n",
            "27 day output [[0.34452674]]\n",
            "[[0.6095424294471741], [0.5818732976913452], [0.5490028858184814], [0.5192257165908813], [0.4943544864654541], [0.47400006651878357], [0.4573107063770294], [0.443530797958374], [0.43199121952056885], [0.4220338761806488], [0.4136066138744354], [0.4064534902572632], [0.4002664089202881], [0.3947857618331909], [0.3898230195045471], [0.3852432370185852], [0.3809526264667511], [0.3768884241580963], [0.3730105459690094], [0.3692953586578369], [0.3657298982143402], [0.3623088598251343], [0.3590307831764221], [0.35589659214019775], [0.35285696387290955], [0.3499397933483124], [0.3471611440181732], [0.3445267379283905]]\n"
          ]
        }
      ]
    },
    {
      "cell_type": "code",
      "source": [
        "day_new = np.arange(1,101)\n",
        "day_pred = np.arange(101,129)"
      ],
      "metadata": {
        "id": "7JdvGNiywi12"
      },
      "execution_count": 39,
      "outputs": []
    },
    {
      "cell_type": "code",
      "source": [
        "day_new.shape"
      ],
      "metadata": {
        "colab": {
          "base_uri": "https://localhost:8080/"
        },
        "id": "2s75itTMw-DO",
        "outputId": "fcbbdabd-ca92-4bc8-a521-c5b900373f6e"
      },
      "execution_count": 40,
      "outputs": [
        {
          "output_type": "execute_result",
          "data": {
            "text/plain": [
              "(100,)"
            ]
          },
          "metadata": {},
          "execution_count": 40
        }
      ]
    },
    {
      "cell_type": "code",
      "source": [
        "day_pred.shape"
      ],
      "metadata": {
        "colab": {
          "base_uri": "https://localhost:8080/"
        },
        "id": "05wJ07Njw-MV",
        "outputId": "5a3a2536-b667-49b8-fd4d-7debbff8f293"
      },
      "execution_count": 41,
      "outputs": [
        {
          "output_type": "execute_result",
          "data": {
            "text/plain": [
              "(28,)"
            ]
          },
          "metadata": {},
          "execution_count": 41
        }
      ]
    },
    {
      "cell_type": "code",
      "source": [
        "len(df_high)"
      ],
      "metadata": {
        "colab": {
          "base_uri": "https://localhost:8080/"
        },
        "id": "dBcZ7FuOw-Wv",
        "outputId": "0da2967f-9e9d-469d-9d51-9e55f0cf4191"
      },
      "execution_count": 42,
      "outputs": [
        {
          "output_type": "execute_result",
          "data": {
            "text/plain": [
              "2035"
            ]
          },
          "metadata": {},
          "execution_count": 42
        }
      ]
    },
    {
      "cell_type": "code",
      "source": [
        "plt.plot(day_new, scaler.inverse_transform(df_high[1935:]))\n",
        "plt.plot(day_pred, scaler.inverse_transform(lst_output))"
      ],
      "metadata": {
        "colab": {
          "base_uri": "https://localhost:8080/",
          "height": 448
        },
        "id": "u07MmV8wxE8C",
        "outputId": "a1bc9acf-c5f5-4a7b-dde0-e22234a4d689"
      },
      "execution_count": 43,
      "outputs": [
        {
          "output_type": "execute_result",
          "data": {
            "text/plain": [
              "[<matplotlib.lines.Line2D at 0x7f9a1df1d120>]"
            ]
          },
          "metadata": {},
          "execution_count": 43
        },
        {
          "output_type": "display_data",
          "data": {
            "text/plain": [
              "<Figure size 640x480 with 1 Axes>"
            ],
            "image/png": "[encoded data removed]"
          },
          "metadata": {}
        }
      ]
    },
    {
      "cell_type": "code",
      "source": [
        "data_new = df_high.tolist()\n",
        "data_new.extend(lst_output)\n",
        "plt.plot(data_new[2000:])"
      ],
      "metadata": {
        "colab": {
          "base_uri": "https://localhost:8080/",
          "height": 448
        },
        "id": "XJjzHgyFxE_c",
        "outputId": "947b2ca5-4201-4f38-f91d-12500886ae87"
      },
      "execution_count": 44,
      "outputs": [
        {
          "output_type": "execute_result",
          "data": {
            "text/plain": [
              "[<matplotlib.lines.Line2D at 0x7f9a1de9c8e0>]"
            ]
          },
          "metadata": {},
          "execution_count": 44
        },
        {
          "output_type": "display_data",
          "data": {
            "text/plain": [
              "<Figure size 640x480 with 1 Axes>"
            ],
            "image/png": "[encoded data removed]"
          },
          "metadata": {}
        }
      ]
    },
    {
      "cell_type": "code",
      "source": [
        "data_new =scaler.inverse_transform(data_new).tolist()"
      ],
      "metadata": {
        "id": "CC-6DQq_xNDI"
      },
      "execution_count": 45,
      "outputs": []
    },
    {
      "cell_type": "code",
      "source": [
        "plt.plot(data_new)"
      ],
      "metadata": {
        "colab": {
          "base_uri": "https://localhost:8080/",
          "height": 448
        },
        "id": "509Y95SvxNGa",
        "outputId": "31b1715e-2656-44f6-a346-a88f520099d9"
      },
      "execution_count": 46,
      "outputs": [
        {
          "output_type": "execute_result",
          "data": {
            "text/plain": [
              "[<matplotlib.lines.Line2D at 0x7f9a1dd93580>]"
            ]
          },
          "metadata": {},
          "execution_count": 46
        },
        {
          "output_type": "display_data",
          "data": {
            "text/plain": [
              "<Figure size 640x480 with 1 Axes>"
            ],
            "image/png": "[encoded data removed]"
          },
          "metadata": {}
        }
      ]
    }
  ]
}